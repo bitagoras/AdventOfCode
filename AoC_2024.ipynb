{
 "cells": [
  {
   "attachments": {},
   "cell_type": "markdown",
   "metadata": {},
   "source": [
    "### Advent of Code 2024\n",
    "\n",
    "This notebook contains my solutions for the Advent of Code (https://adventofcode.com/2024) programming challenge."
   ]
  },
  {
   "cell_type": "code",
   "execution_count": 5,
   "metadata": {},
   "outputs": [],
   "source": [
    "# Init\n",
    "import numpy, re, itertools, collections"
   ]
  },
  {
   "attachments": {},
   "cell_type": "markdown",
   "metadata": {},
   "source": [
    "#### Day 1: Historian Hysteria\n",
    "https://adventofcode.com/2024/day/1"
   ]
  },
  {
   "cell_type": "code",
   "execution_count": 2,
   "metadata": {},
   "outputs": [],
   "source": [
    "# --- Test Input ---\n",
    "\n",
    "input = r\"\"\"3   4\n",
    "4   3\n",
    "2   5\n",
    "1   3\n",
    "3   9\n",
    "3   3\"\"\""
   ]
  },
  {
   "cell_type": "code",
   "execution_count": 3,
   "metadata": {},
   "outputs": [
    {
     "data": {
      "text/plain": [
       "11"
      ]
     },
     "execution_count": 3,
     "metadata": {},
     "output_type": "execute_result"
    }
   ],
   "source": [
    "# --- Part 1 ---\n",
    "\n",
    "lines = input.split('\\n')\n",
    "l1 = sorted(int(line.split()[0]) for line in lines)\n",
    "l2 = sorted(int(line.split()[1]) for line in lines)\n",
    "sum(abs(v1-v2) for v1,v2 in zip(l1,l2))"
   ]
  },
  {
   "cell_type": "code",
   "execution_count": 4,
   "metadata": {},
   "outputs": [
    {
     "data": {
      "text/plain": [
       "31"
      ]
     },
     "execution_count": 4,
     "metadata": {},
     "output_type": "execute_result"
    }
   ],
   "source": [
    "# --- Part 2 ---\n",
    "\n",
    "sum(v1*l2.count(v1) for v1,v2 in zip(l1,l2))"
   ]
  },
  {
   "attachments": {},
   "cell_type": "markdown",
   "metadata": {},
   "source": [
    "#### Day 2: Red-Nosed Reports\n",
    "https://adventofcode.com/2024/day/2"
   ]
  },
  {
   "cell_type": "code",
   "execution_count": 40,
   "metadata": {},
   "outputs": [],
   "source": [
    "# --- Test Input ---\n",
    "\n",
    "input = r\"\"\"7 6 4 2 1\n",
    "1 2 7 8 9\n",
    "9 7 6 2 1\n",
    "1 3 2 4 5\n",
    "8 6 4 4 1\n",
    "1 3 6 7 9\"\"\""
   ]
  },
  {
   "cell_type": "code",
   "execution_count": 46,
   "metadata": {},
   "outputs": [
    {
     "data": {
      "text/plain": [
       "2"
      ]
     },
     "execution_count": 46,
     "metadata": {},
     "output_type": "execute_result"
    }
   ],
   "source": [
    "# --- Part 1 ---\n",
    "diffs = [numpy.diff(list(map(int,line.split()))) for line in input.splitlines()]\n",
    "sum([(all([0 < d <= 3 for d in dl]) or all([-3 <= d < 0 for d in dl])) for dl in diffs])\n"
   ]
  },
  {
   "cell_type": "code",
   "execution_count": 48,
   "metadata": {},
   "outputs": [
    {
     "data": {
      "text/plain": [
       "4"
      ]
     },
     "execution_count": 48,
     "metadata": {},
     "output_type": "execute_result"
    }
   ],
   "source": [
    "# --- Part 2 ---\n",
    "\n",
    "s = 0\n",
    "for line in input.splitlines():\n",
    "    numbers = list(map(int,line.split()))\n",
    "    deltas = numpy.diff(numbers)\n",
    "    if (all([0 < d <= 3 for d in deltas]) or all([-3 <= d < 0 for d in deltas])): s += 1\n",
    "    else:\n",
    "        for i in range(len(numbers)):\n",
    "            reduced = numpy.diff(numbers[:i] + numbers[i+1:])\n",
    "            if (all([0 < d <= 3 for d in reduced]) or all([-3 <= d < 0 for d in reduced])):\n",
    "                s += 1\n",
    "                break\n",
    "s"
   ]
  },
  {
   "attachments": {},
   "cell_type": "markdown",
   "metadata": {},
   "source": [
    "#### Day 3: Mull It Over \n",
    "https://adventofcode.com/2024/day/3"
   ]
  },
  {
   "cell_type": "code",
   "execution_count": 49,
   "metadata": {},
   "outputs": [
    {
     "data": {
      "text/plain": [
       "161"
      ]
     },
     "execution_count": 49,
     "metadata": {},
     "output_type": "execute_result"
    }
   ],
   "source": [
    "# --- Part 1 ---\n",
    "\n",
    "input = \"xmul(2,4)%&mul[3,7]!@^do_not_mul(5,5)+mul(32,64]then(mul(11,8)mul(8,5))\"\n",
    "\n",
    "s = 0\n",
    "for m in input.replace(' ','_').split('mul(')[1:]:\n",
    "    try:\n",
    "        v1,v2 = m.split(')',1)[0].split(',')\n",
    "        s += int(v1)*int(v2)\n",
    "    except:\n",
    "        pass\n",
    "s"
   ]
  },
  {
   "cell_type": "code",
   "execution_count": 50,
   "metadata": {},
   "outputs": [
    {
     "data": {
      "text/plain": [
       "48"
      ]
     },
     "execution_count": 50,
     "metadata": {},
     "output_type": "execute_result"
    }
   ],
   "source": [
    "# --- Part 2 ---\n",
    "\n",
    "input = \"xmul(2,4)&mul[3,7]!^don't()_mul(5,5)+mul(32,64](mul(11,8)undo()?mul(8,5))\"\n",
    "\n",
    "string = input.replace(' ','_')\n",
    "s = 0\n",
    "do = True\n",
    "for i in range(len(string)-4):\n",
    "    sPart = string[i:i+8]\n",
    "    if sPart.startswith('do()'): do = True\n",
    "    if sPart.startswith(\"don't()\"): do = False\n",
    "    if do and sPart.startswith('mul('):\n",
    "        sPart = string[i:i+15]\n",
    "        try:\n",
    "            v1,v2 = sPart[4:].split(')',1)[0].split(',')\n",
    "            s += int(v1)*int(v2)\n",
    "        except:\n",
    "            pass\n",
    "s"
   ]
  },
  {
   "attachments": {},
   "cell_type": "markdown",
   "metadata": {},
   "source": [
    "#### Day 4: Ceres Search\n",
    "https://adventofcode.com/2024/day/4"
   ]
  },
  {
   "cell_type": "code",
   "execution_count": 53,
   "metadata": {},
   "outputs": [],
   "source": [
    "# --- Test Input ---\n",
    "\n",
    "input = r\"\"\"MMMSXXMASM\n",
    "MSAMXMSMSA\n",
    "AMXSXMAAMM\n",
    "MSAMASMSMX\n",
    "XMASAMXAMM\n",
    "XXAMMXXAMA\n",
    "SMSMSASXSS\n",
    "SAXAMASAAA\n",
    "MAMMMXMMMM\n",
    "MXMXAXMASX\"\"\"\n"
   ]
  },
  {
   "cell_type": "code",
   "execution_count": 54,
   "metadata": {},
   "outputs": [
    {
     "data": {
      "text/plain": [
       "18"
      ]
     },
     "execution_count": 54,
     "metadata": {},
     "output_type": "execute_result"
    }
   ],
   "source": [
    "grid = input.splitlines()\n",
    "nx, ny = len(grid), len(grid[0])\n",
    "\n",
    "# --- Part 1 ---\n",
    "\n",
    "n = 0\n",
    "for ix in range(nx):\n",
    "    for iy in range(ny):\n",
    "        if grid[ix][iy] == 'X':\n",
    "            for dx,dy in (1,0),(0,1),(1,1),(-1,0),(0,-1),(-1,-1),(-1,1),(1,-1):\n",
    "                for i in range(4):\n",
    "                    x, y = ix + dx*i, iy + dy*i\n",
    "                    if 0 <= x < nx and 0 <= y < ny:\n",
    "                        if grid[x][y] != 'XMAS'[i]: break\n",
    "                        if i==3: n += 1\n",
    "n"
   ]
  },
  {
   "cell_type": "code",
   "execution_count": 55,
   "metadata": {},
   "outputs": [
    {
     "data": {
      "text/plain": [
       "9"
      ]
     },
     "execution_count": 55,
     "metadata": {},
     "output_type": "execute_result"
    }
   ],
   "source": [
    "# --- Part 2 ---\n",
    "\n",
    "n = 0\n",
    "for ix in range(1,nx-1):\n",
    "    for iy in range(1,ny-1):\n",
    "        if grid[ix][iy] == 'A':\n",
    "            s = ''.join(grid[ix+dx][iy+dy] for dx,dy in ((1,1),(-1,-1),(1,-1),(-1,1)))\n",
    "            if s in ('MSMS','MSSM','SMSM','SMMS'): n += 1\n",
    "n"
   ]
  },
  {
   "attachments": {},
   "cell_type": "markdown",
   "metadata": {},
   "source": [
    "#### Day 5: Print Queue\n",
    "https://adventofcode.com/2024/day/5"
   ]
  },
  {
   "cell_type": "code",
   "execution_count": 13,
   "metadata": {},
   "outputs": [],
   "source": [
    "# --- Test Input ---\n",
    "\n",
    "input = \"\"\"47|53\n",
    "97|13\n",
    "97|61\n",
    "97|47\n",
    "75|29\n",
    "61|13\n",
    "75|53\n",
    "29|13\n",
    "97|29\n",
    "53|29\n",
    "61|53\n",
    "97|53\n",
    "61|29\n",
    "47|13\n",
    "75|47\n",
    "97|75\n",
    "47|61\n",
    "75|61\n",
    "47|29\n",
    "75|13\n",
    "53|13\n",
    "\n",
    "75,47,61,53,29\n",
    "97,61,53,29,13\n",
    "75,29,13\n",
    "75,97,47,61,53\n",
    "61,13,29\n",
    "97,13,75,29,47\"\"\""
   ]
  },
  {
   "cell_type": "code",
   "execution_count": 14,
   "metadata": {},
   "outputs": [
    {
     "data": {
      "text/plain": [
       "143"
      ]
     },
     "execution_count": 14,
     "metadata": {},
     "output_type": "execute_result"
    }
   ],
   "source": [
    "rulesLines, updateLines = input.split('\\n\\n')\n",
    "rules = [(int(i),int(j)) for i,j in (k.split('|') for k in rulesLines.splitlines())]\n",
    "updates = [list(map(int,i)) for i in (k.split(',') for k in updateLines.splitlines())]\n",
    "\n",
    "# --- Part 1 ---\n",
    "\n",
    "s = 0\n",
    "for update in updates:\n",
    "    passed = True\n",
    "    for r1,r2 in rules:\n",
    "        if r1 in update and r2 in update:\n",
    "            if not update.index(r1) < update.index(r2):\n",
    "                passed = False\n",
    "                break\n",
    "    if passed:\n",
    "        s += update[len(update)//2]\n",
    "s\n"
   ]
  },
  {
   "cell_type": "code",
   "execution_count": 15,
   "metadata": {},
   "outputs": [
    {
     "data": {
      "text/plain": [
       "123"
      ]
     },
     "execution_count": 15,
     "metadata": {},
     "output_type": "execute_result"
    }
   ],
   "source": [
    "# --- Part 2 ---\n",
    "\n",
    "nIterations = 10\n",
    "s = 0\n",
    "for update in updates:\n",
    "    passed = True\n",
    "    for orderedRules in ([rules, rules[::-1]] * nIterations):\n",
    "        for r1,r2 in orderedRules:\n",
    "            if r1 in update and r2 in update:\n",
    "                i, j = update.index(r1), update.index(r2)\n",
    "                if not i < j:\n",
    "                    passed = False\n",
    "                    new = [*update[:j], *update[j+1:i], update[i], update[j], *update[i+1:]]\n",
    "                    assert set(new) == set(update)\n",
    "                    update = new\n",
    "    if not passed:\n",
    "        s += update[len(update)//2]\n",
    "s"
   ]
  },
  {
   "cell_type": "markdown",
   "metadata": {},
   "source": [
    "Appying the rules in foward and backward order multiple times will eventually converge to the solution. (Computational time with user input: 3.3 seconds)"
   ]
  },
  {
   "attachments": {},
   "cell_type": "markdown",
   "metadata": {},
   "source": [
    "#### Day 6: Guard Gallivant\n",
    "https://adventofcode.com/2024/day/6"
   ]
  },
  {
   "cell_type": "code",
   "execution_count": 56,
   "metadata": {},
   "outputs": [],
   "source": [
    "# --- Test Input ---\n",
    "\n",
    "input = \"\"\"....#.....\n",
    ".........#\n",
    "..........\n",
    "..#.......\n",
    ".......#..\n",
    "..........\n",
    ".#..^.....\n",
    "........#.\n",
    "#.........\n",
    "......#...\"\"\""
   ]
  },
  {
   "cell_type": "code",
   "execution_count": 57,
   "metadata": {},
   "outputs": [
    {
     "data": {
      "text/plain": [
       "41"
      ]
     },
     "execution_count": 57,
     "metadata": {},
     "output_type": "execute_result"
    }
   ],
   "source": [
    "# --- Part 1 ---\n",
    "\n",
    "gridOrig = numpy.array([list(i) for i in input.splitlines()])\n",
    "grid = gridOrig.copy()\n",
    "nx,ny = grid.shape\n",
    "(x0,),(y0,) = numpy.where(grid == '^')\n",
    "x,y = x0,y0\n",
    "dx,dy = -1,0\n",
    "for i in range(grid.size):\n",
    "    if not 0 <= x < nx or not 0 <= y < ny:\n",
    "        break\n",
    "    elif grid[x,y] == '#':\n",
    "        x,y = x-dx, y-dy # go back\n",
    "        dx,dy = dy,-dx # turn right\n",
    "    else:\n",
    "        grid[x,y] = 'X'\n",
    "    x,y = x+dx,y+dy # go on\n",
    "numpy.count_nonzero(grid == 'X')"
   ]
  },
  {
   "cell_type": "code",
   "execution_count": 58,
   "metadata": {},
   "outputs": [
    {
     "data": {
      "text/plain": [
       "6"
      ]
     },
     "execution_count": 58,
     "metadata": {},
     "output_type": "execute_result"
    }
   ],
   "source": [
    "# --- Part 2 ---\n",
    "\n",
    "visited_coordinates = numpy.array(numpy.where(grid=='X')).T\n",
    "n = 0\n",
    "for cNew in visited_coordinates:\n",
    "    gridNew = grid.copy()\n",
    "    gridNew[*cNew] = 'O'\n",
    "    x,y = x0,y0\n",
    "    dx,dy = -1,0\n",
    "    for i in range(grid.size+1):\n",
    "        if not 0 <= x < nx or not 0 <= y < ny:\n",
    "            break\n",
    "        elif gridNew[x,y] in '#O':\n",
    "            x,y = x-dx, y-dy # go back\n",
    "            dx,dy = dy,-dx # turn right\n",
    "        x,y = x+dx,y+dy # go on\n",
    "    else:\n",
    "        # Loop is detected when end of for-loop is reached,\n",
    "        # since path cannot be longer than all grid points\n",
    "        n += 1\n",
    "n"
   ]
  },
  {
   "cell_type": "markdown",
   "metadata": {},
   "source": [
    "Processing time with user input: 2m 16s"
   ]
  },
  {
   "attachments": {},
   "cell_type": "markdown",
   "metadata": {},
   "source": [
    "#### Day 7: Bridge Repair\n",
    "https://adventofcode.com/2024/day/7"
   ]
  },
  {
   "cell_type": "code",
   "execution_count": 60,
   "metadata": {},
   "outputs": [],
   "source": [
    "# --- Test Input ---\n",
    "\n",
    "input = r\"\"\"190: 10 19\n",
    "3267: 81 40 27\n",
    "83: 17 5\n",
    "156: 15 6\n",
    "7290: 6 8 6 15\n",
    "161011: 16 10 13\n",
    "192: 17 8 14\n",
    "21037: 9 7 18 13\n",
    "292: 11 6 16 20\"\"\""
   ]
  },
  {
   "cell_type": "code",
   "execution_count": 61,
   "metadata": {},
   "outputs": [
    {
     "data": {
      "text/plain": [
       "11387"
      ]
     },
     "execution_count": 61,
     "metadata": {},
     "output_type": "execute_result"
    }
   ],
   "source": [
    "# --- Part 2 ---\n",
    "\n",
    "operators = '+*' # --- part 1 ---\n",
    "operators = '+*|' # --- part 2 ---\n",
    "\n",
    "lines = [list(map(int,i.replace(':','').split())) for i in input.splitlines()]\n",
    "s = 0\n",
    "for t, *values in lines:\n",
    "    operatorSets = [operators] * (len(values)-1)\n",
    "    for ops in itertools.product(*operatorSets):\n",
    "        r = values[0]\n",
    "        for i,(op,v) in enumerate(zip(ops,values[1:])):\n",
    "            if op == '+': r += v\n",
    "            elif op == '*': r *= v\n",
    "            elif op == '|': r = int(str(r)+str(v))\n",
    "        if r == t:\n",
    "            s += t\n",
    "            break\n",
    "s"
   ]
  },
  {
   "attachments": {},
   "cell_type": "markdown",
   "metadata": {},
   "source": [
    "#### Day 8: Resonant Collinearity\n",
    "https://adventofcode.com/2024/day/8"
   ]
  },
  {
   "cell_type": "code",
   "execution_count": 64,
   "metadata": {},
   "outputs": [],
   "source": [
    "# --- Test Input ---\n",
    "\n",
    "input = r\"\"\"............\n",
    "........0...\n",
    ".....0......\n",
    ".......0....\n",
    "....0.......\n",
    "......A.....\n",
    "............\n",
    "............\n",
    "........A...\n",
    ".........A..\n",
    "............\n",
    "............\"\"\"\n"
   ]
  },
  {
   "cell_type": "code",
   "execution_count": 66,
   "metadata": {},
   "outputs": [
    {
     "data": {
      "text/plain": [
       "34"
      ]
     },
     "execution_count": 66,
     "metadata": {},
     "output_type": "execute_result"
    }
   ],
   "source": [
    "# --- Part 1 + 2 ---\n",
    "\n",
    "# part = 1\n",
    "part = 2\n",
    "\n",
    "grid = numpy.array([list(i) for i in input.splitlines()])\n",
    "nx,ny = grid.shape\n",
    "freq = list(set(input.replace('.','').replace('\\n','')))\n",
    "anodes = set()\n",
    "for f in freq:\n",
    "    coord = numpy.stack(numpy.where(grid == f)).T\n",
    "    for c1,c2 in itertools.permutations(coord, 2):\n",
    "        for n in range(nx+ny if part==2 else 1):\n",
    "            x,y = c2+(c2-c1)*n\n",
    "            if 0 <= x < nx and 0 <= y < ny:\n",
    "                anodes.add((x,y))\n",
    "            else:\n",
    "                break\n",
    "len(anodes)"
   ]
  },
  {
   "cell_type": "markdown",
   "metadata": {},
   "source": [
    "Note that itertools.permutations('AB', 2) results in both orders AB and BA. This makes sure that both directions of the extensions are covered."
   ]
  },
  {
   "attachments": {},
   "cell_type": "markdown",
   "metadata": {},
   "source": [
    "#### Day 9\n",
    "https://adventofcode.com/2024/day/9"
   ]
  },
  {
   "cell_type": "code",
   "execution_count": 66,
   "metadata": {},
   "outputs": [],
   "source": [
    "# --- Test Input ---\n",
    "\n",
    "input = r\"\"\"2333133121414131402\"\"\"\n"
   ]
  },
  {
   "cell_type": "code",
   "execution_count": 67,
   "metadata": {},
   "outputs": [
    {
     "data": {
      "text/plain": [
       "1928"
      ]
     },
     "execution_count": 67,
     "metadata": {},
     "output_type": "execute_result"
    }
   ],
   "source": [
    "# --- Part 1 ---\n",
    "\n",
    "filesizes = list(map(int,input[::2]))\n",
    "space = list(map(int,input[1::2]))\n",
    "memParts = [[i]*f+[-1]*s for i,(f,s) in enumerate(zip(filesizes,space + [0]))]\n",
    "mem = [i for j in memParts for i in j]\n",
    "sizeMem = len(mem)\n",
    "pSpace = 0\n",
    "pFile = sizeMem - 1\n",
    "for i in range(sizeMem):\n",
    "    while mem[pSpace] != -1 and pSpace < sizeMem-1: pSpace += 1\n",
    "    while mem[pFile] == -1 and pFile > 0: pFile -= 1\n",
    "    if pFile < pSpace: break\n",
    "    mem[pSpace], mem[pFile] = mem[pFile], -1\n",
    "sum(i*int(v) for i,v in enumerate(mem[:pSpace]))"
   ]
  },
  {
   "cell_type": "code",
   "execution_count": 65,
   "metadata": {},
   "outputs": [
    {
     "data": {
      "text/plain": [
       "2858"
      ]
     },
     "execution_count": 65,
     "metadata": {},
     "output_type": "execute_result"
    }
   ],
   "source": [
    "# --- Part 2 ---\n",
    "\n",
    "filesizes = list(map(int,input[::2]))\n",
    "space = list(map(int,input[1::2])) + [0]\n",
    "mem = numpy.concatenate([[i]*f+[-1]*s for i,(f,s) in enumerate(\n",
    "    zip(filesizes,space))],dtype='longlong')\n",
    "nMem = len(mem)\n",
    "pSpace = 0\n",
    "pFile = nMem - 1\n",
    "moveDone = [False] * len(filesizes)\n",
    "for i in range(nMem*nMem):\n",
    "    if i==0 or moveDone[fID]:\n",
    "        while mem[pFile] < 0 and pFile >= 0: pFile -= 1\n",
    "        if pFile < 0: break\n",
    "        while mem[pFile-1] == mem[pFile] and pFile > 0: pFile -= 1\n",
    "        assert mem[pFile] >= 0\n",
    "        fID = mem[pFile]\n",
    "    while pSpace < nMem and mem[pSpace] >= 0: pSpace += 1\n",
    "    pse = pSpace\n",
    "    if pSpace >= pFile:\n",
    "        pSpace = 0\n",
    "        moveDone[fID] = True\n",
    "        pFile -= 1\n",
    "        continue\n",
    "    while mem[pse] == -1 and pse < nMem-1: pse += 1\n",
    "    nspace = pse-pSpace\n",
    "    nfile = filesizes[fID]\n",
    "    if nfile <= nspace:\n",
    "        mem[pSpace:pSpace+nfile] = mem[pFile:pFile+nfile]\n",
    "        mem[pFile:pFile+nfile] = -1\n",
    "        moveDone[fID] = True\n",
    "        pSpace = nspace = 0\n",
    "        pFile -= 1\n",
    "    else:\n",
    "        pSpace += nspace + 1\n",
    "\n",
    "sum(i*int(v) for i,v in enumerate(mem) if mem[i] >= 0)"
   ]
  },
  {
   "cell_type": "code",
   "execution_count": 68,
   "metadata": {},
   "outputs": [
    {
     "name": "stdout",
     "output_type": "stream",
     "text": [
      "2858\n"
     ]
    }
   ],
   "source": [
    "# --- Part 2 ---\n",
    "\n",
    "fileSize = list(map(int,input[::2]))\n",
    "fileOrder = list(range(len(fileSize)))\n",
    "space = list(map(int,input[1::2])) + [0]\n",
    "for iFile in reversed(range(0,len(fileSize))):\n",
    "    size = fileSize[iFile]\n",
    "    iFilePos = fileOrder.index(iFile)\n",
    "    for iPos in range(iFilePos):\n",
    "        iSpace = fileOrder[iPos]\n",
    "        rest = space[iSpace] - size\n",
    "        if rest >= 0:\n",
    "            iSpaceR = fileOrder[iPos+1]\n",
    "            iFileL = fileOrder[iFilePos-1]\n",
    "            space[iSpace] = 0\n",
    "            space[iFileL] += space[iFile] + size\n",
    "            space[iFile] = rest\n",
    "            fileOrder = [*fileOrder[:iPos+1], fileOrder[iFilePos],\n",
    "                *fileOrder[iPos+1:iFilePos], *fileOrder[iFilePos+1:]]\n",
    "            break\n",
    "trueMem = [i for j in ([iFile]*fileSize[iFile]+[0]*space[iFile] for iFile in fileOrder) for i in j]\n",
    "print(sum(i*v for i,v in enumerate(trueMem)))\n",
    "\n",
    "# Note: This shorter and faster solution has still a bug. Only the test works."
   ]
  },
  {
   "attachments": {},
   "cell_type": "markdown",
   "metadata": {},
   "source": [
    "#### Day 10\n",
    "https://adventofcode.com/2024/day/10"
   ]
  },
  {
   "cell_type": "code",
   "execution_count": 56,
   "metadata": {},
   "outputs": [],
   "source": [
    "# --- Test Input ---\n",
    "\n",
    "input = \"\"\"89010123\n",
    "78121874\n",
    "87430965\n",
    "96549874\n",
    "45678903\n",
    "32019012\n",
    "01329801\n",
    "10456732\"\"\""
   ]
  },
  {
   "cell_type": "code",
   "execution_count": 57,
   "metadata": {},
   "outputs": [
    {
     "name": "stdout",
     "output_type": "stream",
     "text": [
      "Part 1: 36\n",
      "Part 2: 81\n"
     ]
    }
   ],
   "source": [
    "# --- Part 1 + 2 ---\n",
    "\n",
    "import collections\n",
    "\n",
    "grid = [list(map(int,i)) for i in input.splitlines()]\n",
    "nx, ny = len(grid), len(grid[0])\n",
    "xPeaks = list(map(tuple,numpy.stack(numpy.where(numpy.array(grid)==9)).T))\n",
    "\n",
    "s = collections.defaultdict(set) # part 1: peak set per path\n",
    "c = collections.Counter(xPeaks)  # part 2: init path count with peaks\n",
    "\n",
    "for i,(x,y) in enumerate(xPeaks):\n",
    "    s[x,y].add(i) # unique ID for each peaks\n",
    "\n",
    "for level in reversed(range(9)):\n",
    "    xy_s_c = list(zip(s.items(), c.values()))\n",
    "    s.clear()\n",
    "    c.clear()\n",
    "    for ((x,y), sxy), cxy in xy_s_c:\n",
    "        for xRN, yRN in (1,0), (0,1), (-1,0), (0,-1):\n",
    "            xN, yN = x + xRN, y + yRN\n",
    "            if 0 <= xN < nx and 0 <= yN < ny and grid[xN][yN]==level:\n",
    "                s[xN,yN].update(sxy) # part 1: combine all possible peaks\n",
    "                c[xN,yN] += cxy      # part 2: add the counts of all possible paths\n",
    "\n",
    "print(\"Part 1:\", sum([len(i) for i in s.values()]))\n",
    "print(\"Part 2:\", sum(c.values()))"
   ]
  },
  {
   "attachments": {},
   "cell_type": "markdown",
   "metadata": {},
   "source": [
    "#### Day 11\n",
    "https://adventofcode.com/2024/day/11"
   ]
  },
  {
   "cell_type": "code",
   "execution_count": 59,
   "metadata": {},
   "outputs": [],
   "source": [
    "# --- Test Input ---\n",
    "\n",
    "input = '125 17'"
   ]
  },
  {
   "cell_type": "code",
   "execution_count": 63,
   "metadata": {},
   "outputs": [
    {
     "name": "stdout",
     "output_type": "stream",
     "text": [
      "Part 1: 55312\n",
      "Part 2: 65601038650482\n"
     ]
    }
   ],
   "source": [
    "# --- Part 1 + 2 ---\n",
    "\n",
    "from collections import Counter\n",
    "\n",
    "c = Counter(input.split())\n",
    "\n",
    "for i in range(75):\n",
    "    items = list(c.items())\n",
    "    c.clear()\n",
    "    for n,cn in items:\n",
    "        if n == '0':\n",
    "            c['1'] += cn\n",
    "        elif len(n)%2 != 0:\n",
    "            c[str(2024*int(n))] += cn\n",
    "        else:\n",
    "            c[n[:len(n)//2]] += cn\n",
    "            c[str(int(n[len(n)//2:]))] += cn\n",
    "\n",
    "    if i+1 == 25: print(\"Part 1:\", sum(c.values()))\n",
    "    if i+1 == 75: print(\"Part 2:\", sum(c.values()))"
   ]
  },
  {
   "attachments": {},
   "cell_type": "markdown",
   "metadata": {},
   "source": [
    "#### Day 12\n",
    "https://adventofcode.com/2024/day/12"
   ]
  },
  {
   "cell_type": "code",
   "execution_count": 25,
   "metadata": {},
   "outputs": [],
   "source": [
    "# --- Test Input ---\n",
    "\n",
    "input = \"\"\"\"\"\""
   ]
  },
  {
   "cell_type": "code",
   "execution_count": null,
   "metadata": {},
   "outputs": [],
   "source": []
  },
  {
   "attachments": {},
   "cell_type": "markdown",
   "metadata": {},
   "source": [
    "#### Day 13\n",
    "https://adventofcode.com/2024/day/13"
   ]
  },
  {
   "cell_type": "code",
   "execution_count": 26,
   "metadata": {},
   "outputs": [],
   "source": [
    "# --- Test Input ---\n",
    "\n",
    "input = \"\"\"\"\"\""
   ]
  },
  {
   "cell_type": "code",
   "execution_count": null,
   "metadata": {},
   "outputs": [],
   "source": []
  },
  {
   "attachments": {},
   "cell_type": "markdown",
   "metadata": {},
   "source": [
    "#### Day 14\n",
    "https://adventofcode.com/2024/day/14"
   ]
  },
  {
   "cell_type": "code",
   "execution_count": 27,
   "metadata": {},
   "outputs": [],
   "source": [
    "# --- Test Input ---\n",
    "\n",
    "input = \"\"\"\"\"\""
   ]
  },
  {
   "cell_type": "code",
   "execution_count": null,
   "metadata": {},
   "outputs": [],
   "source": []
  },
  {
   "attachments": {},
   "cell_type": "markdown",
   "metadata": {},
   "source": [
    "#### Day 15\n",
    "https://adventofcode.com/2024/day/15"
   ]
  },
  {
   "cell_type": "code",
   "execution_count": 28,
   "metadata": {},
   "outputs": [],
   "source": [
    "# --- Test Input ---\n",
    "\n",
    "input = \"\"\"\"\"\""
   ]
  },
  {
   "cell_type": "code",
   "execution_count": 29,
   "metadata": {},
   "outputs": [],
   "source": [
    "# --- part 1 ---\n"
   ]
  },
  {
   "cell_type": "code",
   "execution_count": 30,
   "metadata": {},
   "outputs": [],
   "source": [
    "# --- part 2 ---\n",
    "\n"
   ]
  },
  {
   "attachments": {},
   "cell_type": "markdown",
   "metadata": {},
   "source": [
    "#### Day 16\n",
    "https://adventofcode.com/2024/day/16"
   ]
  },
  {
   "cell_type": "code",
   "execution_count": 31,
   "metadata": {},
   "outputs": [],
   "source": [
    "# --- Test Input ---\n",
    "\n",
    "input = \"\"\"\"\"\""
   ]
  },
  {
   "cell_type": "code",
   "execution_count": null,
   "metadata": {},
   "outputs": [],
   "source": []
  },
  {
   "attachments": {},
   "cell_type": "markdown",
   "metadata": {},
   "source": [
    "#### Day 17\n",
    "https://adventofcode.com/2024/day/17"
   ]
  },
  {
   "cell_type": "code",
   "execution_count": 32,
   "metadata": {},
   "outputs": [],
   "source": [
    "# --- Test Input ---\n",
    "\n",
    "input = \"\"\"\"\"\""
   ]
  },
  {
   "cell_type": "code",
   "execution_count": null,
   "metadata": {},
   "outputs": [],
   "source": []
  },
  {
   "cell_type": "code",
   "execution_count": null,
   "metadata": {},
   "outputs": [],
   "source": []
  },
  {
   "attachments": {},
   "cell_type": "markdown",
   "metadata": {},
   "source": [
    "#### Day 18\n",
    "https://adventofcode.com/2024/day/18"
   ]
  },
  {
   "cell_type": "code",
   "execution_count": null,
   "metadata": {},
   "outputs": [],
   "source": []
  },
  {
   "cell_type": "code",
   "execution_count": null,
   "metadata": {},
   "outputs": [],
   "source": []
  },
  {
   "attachments": {},
   "cell_type": "markdown",
   "metadata": {},
   "source": [
    "#### Day 19"
   ]
  },
  {
   "cell_type": "code",
   "execution_count": null,
   "metadata": {},
   "outputs": [],
   "source": []
  },
  {
   "attachments": {},
   "cell_type": "markdown",
   "metadata": {},
   "source": [
    "#### Day 20"
   ]
  },
  {
   "cell_type": "code",
   "execution_count": null,
   "metadata": {},
   "outputs": [],
   "source": []
  },
  {
   "attachments": {},
   "cell_type": "markdown",
   "metadata": {},
   "source": [
    "#### Day 21"
   ]
  },
  {
   "cell_type": "code",
   "execution_count": null,
   "metadata": {},
   "outputs": [],
   "source": []
  },
  {
   "attachments": {},
   "cell_type": "markdown",
   "metadata": {},
   "source": [
    "#### Day 22"
   ]
  },
  {
   "cell_type": "code",
   "execution_count": null,
   "metadata": {},
   "outputs": [],
   "source": []
  },
  {
   "attachments": {},
   "cell_type": "markdown",
   "metadata": {},
   "source": [
    "#### Day 23"
   ]
  },
  {
   "cell_type": "code",
   "execution_count": null,
   "metadata": {},
   "outputs": [],
   "source": []
  },
  {
   "attachments": {},
   "cell_type": "markdown",
   "metadata": {},
   "source": [
    "#### Day 24"
   ]
  },
  {
   "cell_type": "code",
   "execution_count": null,
   "metadata": {},
   "outputs": [],
   "source": []
  }
 ],
 "metadata": {
  "kernelspec": {
   "display_name": "base",
   "language": "python",
   "name": "python3"
  },
  "language_info": {
   "codemirror_mode": {
    "name": "ipython",
    "version": 3
   },
   "file_extension": ".py",
   "mimetype": "text/x-python",
   "name": "python",
   "nbconvert_exporter": "python",
   "pygments_lexer": "ipython3",
   "version": "3.11.7"
  },
  "orig_nbformat": 4
 },
 "nbformat": 4,
 "nbformat_minor": 2
}
