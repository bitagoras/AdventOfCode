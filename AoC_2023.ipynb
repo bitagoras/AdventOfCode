{
 "cells": [
  {
   "attachments": {},
   "cell_type": "markdown",
   "metadata": {},
   "source": [
    "### Advent of Code 2023\n",
    "\n",
    "This notebook contains my solutions for the Advent of Code (https://adventofcode.com/2023) programming challenge."
   ]
  },
  {
   "attachments": {},
   "cell_type": "markdown",
   "metadata": {},
   "source": [
    "#### Day 1: Trebuchet?!\n",
    "https://adventofcode.com/2023/day/1"
   ]
  },
  {
   "cell_type": "code",
   "execution_count": 10,
   "metadata": {},
   "outputs": [],
   "source": [
    "# --- Test Input 1 ---\n",
    "\n",
    "input1 = \"\"\"1abc2\n",
    "pqr3stu8vwx\n",
    "a1b2c3d4e5f\n",
    "treb7uchet\"\"\"\n",
    "\n",
    "# --- Test Input 1 ---\n",
    "\n",
    "input2 = \"\"\"two1nine\n",
    "eightwothree\n",
    "abcone2threexyz\n",
    "xtwone3four\n",
    "4nineeightseven2\n",
    "zoneight234\n",
    "7pqrstsixteen\"\"\""
   ]
  },
  {
   "cell_type": "code",
   "execution_count": 11,
   "metadata": {},
   "outputs": [
    {
     "data": {
      "text/plain": [
       "142"
      ]
     },
     "execution_count": 11,
     "metadata": {},
     "output_type": "execute_result"
    }
   ],
   "source": [
    "# --- Part 1 ---\n",
    "sum(int(n[0]+n[-1]) for n in [[i for i in filter(str.isnumeric, line)] for line in input1.splitlines()])"
   ]
  },
  {
   "cell_type": "code",
   "execution_count": 12,
   "metadata": {},
   "outputs": [
    {
     "data": {
      "text/plain": [
       "281"
      ]
     },
     "execution_count": 12,
     "metadata": {},
     "output_type": "execute_result"
    }
   ],
   "source": [
    "# --- Part 2 ---\n",
    "for i,n in enumerate(\"one two three four five six seven eight nine\".split()):\n",
    "    input2 = input2.replace(n, n[0]+str(i+1)+n[2:])\n",
    "sum(int(n[0]+n[-1]) for n in [[i for i in filter(str.isnumeric, line)] for line in input2.splitlines()])"
   ]
  },
  {
   "attachments": {},
   "cell_type": "markdown",
   "metadata": {},
   "source": [
    "#### Day 2: Cube Conundrum\n",
    "https://adventofcode.com/2023/day/2"
   ]
  },
  {
   "cell_type": "code",
   "execution_count": 13,
   "metadata": {},
   "outputs": [],
   "source": [
    "# --- Test Input ---\n",
    "\n",
    "input = \"\"\"Game 1: 3 blue, 4 red; 1 red, 2 green, 6 blue; 2 green\n",
    "Game 2: 1 blue, 2 green; 3 green, 4 blue, 1 red; 1 green, 1 blue\n",
    "Game 3: 8 green, 6 blue, 20 red; 5 blue, 4 red, 13 green; 5 green, 1 red\n",
    "Game 4: 1 green, 3 red, 6 blue; 3 green, 6 red; 3 green, 15 blue, 14 red\n",
    "Game 5: 6 red, 1 blue, 3 green; 2 blue, 1 red, 2 green\"\"\""
   ]
  },
  {
   "cell_type": "code",
   "execution_count": 14,
   "metadata": {},
   "outputs": [
    {
     "data": {
      "text/plain": [
       "8"
      ]
     },
     "execution_count": 14,
     "metadata": {},
     "output_type": "execute_result"
    }
   ],
   "source": [
    "# --- Part 1 ---\n",
    "bag = {\"red\": 12 , \"green\": 13 , \"blue\": 14}\n",
    "idSum = 0\n",
    "for game in input.splitlines():\n",
    "    ID, _, S = game.partition(':')\n",
    "    possible = True\n",
    "    for s in S.split(';'):\n",
    "        for cs in s.split(','):\n",
    "            n, c = cs.split()\n",
    "            if int(n) > bag[c]:\n",
    "                possible = False\n",
    "    if possible:\n",
    "        idSum += int(ID.split()[1])\n",
    "idSum"
   ]
  },
  {
   "cell_type": "code",
   "execution_count": 15,
   "metadata": {},
   "outputs": [
    {
     "data": {
      "text/plain": [
       "2286"
      ]
     },
     "execution_count": 15,
     "metadata": {},
     "output_type": "execute_result"
    }
   ],
   "source": [
    "# --- Part 2 ---\n",
    "\n",
    "score = 0\n",
    "for game in input.splitlines():\n",
    "    bag = {\"red\": 0 , \"green\": 0 , \"blue\": 0}\n",
    "    ID, _, S = game.partition(':')\n",
    "    possible = True\n",
    "    for s in S.split(';'):\n",
    "        for cs in s.split(','):\n",
    "            n, c = cs.split()\n",
    "            if int(n) > bag[c]:\n",
    "                bag[c] = int(n)\n",
    "    p = 1\n",
    "    for v in bag.values(): p *= v\n",
    "    score += p\n",
    "score"
   ]
  },
  {
   "attachments": {},
   "cell_type": "markdown",
   "metadata": {},
   "source": [
    "#### Day 3: Gear Ratios\n",
    "https://adventofcode.com/2023/day/3"
   ]
  },
  {
   "cell_type": "code",
   "execution_count": 16,
   "metadata": {},
   "outputs": [],
   "source": [
    "# --- Test Input ---\n",
    "\n",
    "input = \"\"\"467..114..\n",
    "...*......\n",
    "..35..633.\n",
    "......#...\n",
    "617*......\n",
    ".....+.58.\n",
    "..592.....\n",
    "......755.\n",
    "...$.*....\n",
    ".664.598..\"\"\""
   ]
  },
  {
   "cell_type": "code",
   "execution_count": 17,
   "metadata": {},
   "outputs": [
    {
     "name": "stdout",
     "output_type": "stream",
     "text": [
      "4361\n"
     ]
    }
   ],
   "source": [
    "# --- Part 1 ---\n",
    "\n",
    "import numpy\n",
    "a = numpy.array([list(l) for l in input.split()])\n",
    "b = numpy.zeros(a.shape, 'i')\n",
    "for x in range(a.shape[0]):\n",
    "    for y in range(a.shape[1]):\n",
    "        if not a[x,y].isnumeric():\n",
    "            if a[x,y] != '.':\n",
    "                b[x-1:x+2,y-1:y+2] += 1\n",
    "            a[x,y] = ' '\n",
    "sall = sum(int(n) for l in a if len(s := ''.join(l).split()) for n in s if n.isnumeric())\n",
    "a[(b > 0) & (a != ' ')] = 'X'\n",
    "sonly = sum(int(n) for l in a if len(s := ''.join(l).split()) for n in s if n.isnumeric())\n",
    "print(sall - sonly)"
   ]
  },
  {
   "cell_type": "code",
   "execution_count": 18,
   "metadata": {},
   "outputs": [
    {
     "name": "stdout",
     "output_type": "stream",
     "text": [
      "467835\n"
     ]
    }
   ],
   "source": [
    "\n",
    "# --- Part 2 ---\n",
    "\n",
    "a = numpy.array([list(l) for l in input.split()])\n",
    "b = numpy.zeros(a.shape, 'i')\n",
    "ind = numpy.zeros(a.shape, 'i') - 1\n",
    "indexNumber = 0\n",
    "values = []\n",
    "for x in range(a.shape[0]):\n",
    "    insideNumber = False\n",
    "    digits = []\n",
    "    for y in range(a.shape[1]):\n",
    "        if a[x,y].isnumeric():\n",
    "            ind[x,y] = indexNumber\n",
    "            insideNumber = True\n",
    "            digits.append(a[x,y])\n",
    "        else:\n",
    "            if insideNumber:\n",
    "                insideNumber = False\n",
    "                indexNumber += 1\n",
    "                values.append(int(''.join(digits)))\n",
    "                digits = []\n",
    "    if digits:\n",
    "        values.append(int(''.join(digits)))\n",
    "        indexNumber += 1\n",
    "\n",
    "s = 0\n",
    "for x in range(a.shape[0]):\n",
    "    for y in range(a.shape[1]):\n",
    "        if a[x,y] == '*':\n",
    "            iNum = [i for i in set(ind[x-1:x+2,y-1:y+2].ravel()) if i >= 0]\n",
    "            if len(iNum) == 2:\n",
    "                s += values[iNum[0]] * values[iNum[1]]\n",
    "\n",
    "print(s)"
   ]
  },
  {
   "attachments": {},
   "cell_type": "markdown",
   "metadata": {},
   "source": [
    "#### Day 4: Scratchcards\n",
    "https://adventofcode.com/2023/day/4"
   ]
  },
  {
   "cell_type": "code",
   "execution_count": 19,
   "metadata": {},
   "outputs": [],
   "source": [
    "# --- Test Input ---\n",
    "\n",
    "input = \"\"\"Card 1: 41 48 83 86 17 | 83 86  6 31 17  9 48 53\n",
    "Card 2: 13 32 20 16 61 | 61 30 68 82 17 32 24 19\n",
    "Card 3:  1 21 53 59 44 | 69 82 63 72 16 21 14  1\n",
    "Card 4: 41 92 73 84 69 | 59 84 76 51 58  5 54 83\n",
    "Card 5: 87 83 26 28 32 | 88 30 70 12 93 22 82 36\n",
    "Card 6: 31 18 13 56 72 | 74 77 10 23 35 67 36 11\"\"\""
   ]
  },
  {
   "cell_type": "code",
   "execution_count": 20,
   "metadata": {},
   "outputs": [
    {
     "name": "stdout",
     "output_type": "stream",
     "text": [
      "part 1: 13\n",
      "part 2: 30\n"
     ]
    }
   ],
   "source": [
    "# --- Part 1 + 2 ---\n",
    "\n",
    "lines = input.splitlines()\n",
    "s = 0  # Part 1\n",
    "cardCount = [1] * len(lines)  # Part 2\n",
    "for i,line in enumerate(lines):\n",
    "    n1, n2 = line.split(':')[-1].split('|')\n",
    "    points = len(set(n1.split()).intersection(n2.split()))\n",
    "    s += int(2**(points-1))  # Part 1\n",
    "    for j in range(i+1,i+1+points): cardCount[j] += cardCount[i]  # Part 2\n",
    "print('part 1:', s)\n",
    "print('part 2:', sum(cardCount))"
   ]
  },
  {
   "attachments": {},
   "cell_type": "markdown",
   "metadata": {},
   "source": [
    "#### Day 5: If You Give A Seed A Fertilizer\n",
    "https://adventofcode.com/2023/day/5"
   ]
  },
  {
   "cell_type": "code",
   "execution_count": 1,
   "metadata": {},
   "outputs": [],
   "source": [
    "# --- Test Input ---\n",
    "\n",
    "input = \"\"\"seeds: 79 14 55 13\n",
    "\n",
    "seed-to-soil map:\n",
    "50 98 2\n",
    "52 50 48\n",
    "\n",
    "soil-to-fertilizer map:\n",
    "0 15 37\n",
    "37 52 2\n",
    "39 0 15\n",
    "\n",
    "fertilizer-to-water map:\n",
    "49 53 8\n",
    "0 11 42\n",
    "42 0 7\n",
    "57 7 4\n",
    "\n",
    "water-to-light map:\n",
    "88 18 7\n",
    "18 25 70\n",
    "\n",
    "light-to-temperature map:\n",
    "45 77 23\n",
    "81 45 19\n",
    "68 64 13\n",
    "\n",
    "temperature-to-humidity map:\n",
    "0 69 1\n",
    "1 0 69\n",
    "\n",
    "humidity-to-location map:\n",
    "60 56 37\n",
    "56 93 4\"\"\""
   ]
  },
  {
   "cell_type": "code",
   "execution_count": 3,
   "metadata": {},
   "outputs": [
    {
     "name": "stdout",
     "output_type": "stream",
     "text": [
      "46\n"
     ]
    }
   ],
   "source": [
    "blocks = input.split('\\n\\n')\n",
    "seeds = list(map(int,blocks[0].split(':')[1].split()))\n",
    "transforms = [[list(map(int, line.split())) for line in b.split(':\\n')[-1].split('\\n')] for b in blocks[1:]]\n",
    "\n",
    "intervals = set(((i,1) for i in seeds))        # -- part 1 --\n",
    "intervals = set(zip(seeds[::2], seeds[1::2]))  # -- part 2 --\n",
    "\n",
    "for transform in transforms:\n",
    "    shiftedIntervals = set()\n",
    "    for t in transform:\n",
    "        yShifted, y, ny = t  # y: transformed interval\n",
    "        restIntervals = set()\n",
    "        for i,(x,nx) in enumerate(intervals): # x: original interval\n",
    "            edges = sorted([(x,'x'), (x+nx,'x'), (y,'y'), (y+ny,'y')])\n",
    "            order = ''.join(s for _,s in edges)\n",
    "            parts = [(e, edges[i+1][0]-e) for i,(e,_) in enumerate(edges[:-1])]\n",
    "            task = { # overlap cases\n",
    "                # case: what to do with the 3 parts (x:keep, +:transform)\n",
    "                \"xxyy\": \"x  \", # non-overlapping\n",
    "                \"yyxx\": \"  x\", # non-overlapping\n",
    "                \"xyxy\": \"x+ \", # x left overlap\n",
    "                \"yxyx\": \" +x\", # x right overlap\n",
    "                \"xyyx\": \"x+x\", # y inside x\n",
    "                \"yxxy\": \" + \", # x inside y\n",
    "            }[order]\n",
    "            for transType, (newX, newN) in zip(task, parts):\n",
    "                if newN > 0:\n",
    "                    if transType == 'x': restIntervals.add((newX, newN))\n",
    "                    if transType == '+': shiftedIntervals.add((newX+yShifted-y, newN))\n",
    "        intervals = restIntervals\n",
    "    intervals = shiftedIntervals.union(restIntervals)\n",
    "print(min(intervals)[0])"
   ]
  },
  {
   "attachments": {},
   "cell_type": "markdown",
   "metadata": {},
   "source": [
    "#### Day 6: Wait For It\n",
    "https://adventofcode.com/2023/day/6"
   ]
  },
  {
   "cell_type": "code",
   "execution_count": 23,
   "metadata": {},
   "outputs": [],
   "source": [
    "# --- Test Input ---\n",
    "\n",
    "input = \"\"\"Time:      7  15   30\n",
    "Distance:  9  40  200\"\"\""
   ]
  },
  {
   "cell_type": "code",
   "execution_count": 24,
   "metadata": {},
   "outputs": [
    {
     "data": {
      "text/plain": [
       "71503"
      ]
     },
     "execution_count": 24,
     "metadata": {},
     "output_type": "execute_result"
    }
   ],
   "source": [
    "inp = input                  # --- part 1 ---\n",
    "inp = input.replace(' ','')  # --- part 2 ---\n",
    "\n",
    "import numpy\n",
    "times = numpy.array(list(map(int, inp.splitlines()[0].split(':')[1].split())),'d')\n",
    "distances = numpy.array(list(map(int, inp.splitlines()[1].split(':')[1].split())),'d')\n",
    "tMin = numpy.ceil(times/2 - numpy.sqrt(times**2/4-distances) + 1E-12)\n",
    "tMax = numpy.floor(times/2 + numpy.sqrt(times**2/4-distances) - 1E-12)\n",
    "int(numpy.prod(tMax - tMin + 1))\n"
   ]
  },
  {
   "attachments": {},
   "cell_type": "markdown",
   "metadata": {},
   "source": [
    "#### Day 7:\n",
    "https://adventofcode.com/2023/day/7"
   ]
  },
  {
   "cell_type": "code",
   "execution_count": 25,
   "metadata": {},
   "outputs": [],
   "source": [
    "# --- Test Input ---\n",
    "\n",
    "input = \"\"\"\"\"\""
   ]
  },
  {
   "attachments": {},
   "cell_type": "markdown",
   "metadata": {},
   "source": [
    "#### Day 8:\n",
    "https://adventofcode.com/2023/day/8"
   ]
  },
  {
   "cell_type": "code",
   "execution_count": null,
   "metadata": {},
   "outputs": [],
   "source": []
  },
  {
   "cell_type": "code",
   "execution_count": 26,
   "metadata": {},
   "outputs": [],
   "source": [
    "# --- Test Input ---\n",
    "\n",
    "input = \"\"\"\"\"\""
   ]
  },
  {
   "attachments": {},
   "cell_type": "markdown",
   "metadata": {},
   "source": [
    "#### Day 9:\n",
    "https://adventofcode.com/2023/day/9"
   ]
  },
  {
   "cell_type": "code",
   "execution_count": 27,
   "metadata": {},
   "outputs": [],
   "source": [
    "# --- Test Input ---\n",
    "\n",
    "testinput = \"\"\"\"\"\""
   ]
  },
  {
   "attachments": {},
   "cell_type": "markdown",
   "metadata": {},
   "source": [
    "#### Day 10:\n",
    "https://adventofcode.com/2023/day/10"
   ]
  },
  {
   "cell_type": "code",
   "execution_count": 28,
   "metadata": {},
   "outputs": [],
   "source": [
    "# --- Test Input ---\n",
    "\n",
    "input = \"\"\"\"\"\"\n"
   ]
  },
  {
   "attachments": {},
   "cell_type": "markdown",
   "metadata": {},
   "source": [
    "#### Day 11:\n",
    "https://adventofcode.com/2023/day/11"
   ]
  },
  {
   "cell_type": "code",
   "execution_count": 29,
   "metadata": {},
   "outputs": [],
   "source": [
    "# --- Test Input ---\n",
    "\n",
    "input = \"\"\"\"\"\""
   ]
  },
  {
   "attachments": {},
   "cell_type": "markdown",
   "metadata": {},
   "source": [
    "#### Day 12:\n",
    "https://adventofcode.com/2023/day/12"
   ]
  },
  {
   "cell_type": "code",
   "execution_count": 30,
   "metadata": {},
   "outputs": [],
   "source": [
    "input = \"\"\"\"\"\""
   ]
  },
  {
   "attachments": {},
   "cell_type": "markdown",
   "metadata": {},
   "source": [
    "#### Day 13:\n",
    "https://adventofcode.com/2023/day/13"
   ]
  },
  {
   "cell_type": "code",
   "execution_count": 31,
   "metadata": {},
   "outputs": [],
   "source": [
    "# --- Test Input ---\n",
    "\n",
    "input = \"\"\"\"\"\""
   ]
  },
  {
   "attachments": {},
   "cell_type": "markdown",
   "metadata": {},
   "source": [
    "#### Day 14:\n",
    "https://adventofcode.com/2023/day/14"
   ]
  },
  {
   "cell_type": "code",
   "execution_count": 32,
   "metadata": {},
   "outputs": [],
   "source": [
    "# --- Test Input ---\n",
    "\n",
    "input = \"\"\"\"\"\""
   ]
  },
  {
   "attachments": {},
   "cell_type": "markdown",
   "metadata": {},
   "source": [
    "#### Day 15:\n",
    "https://adventofcode.com/2023/day/15"
   ]
  },
  {
   "cell_type": "code",
   "execution_count": null,
   "metadata": {},
   "outputs": [],
   "source": []
  },
  {
   "attachments": {},
   "cell_type": "markdown",
   "metadata": {},
   "source": [
    "#### Day 16"
   ]
  },
  {
   "cell_type": "code",
   "execution_count": null,
   "metadata": {},
   "outputs": [],
   "source": []
  },
  {
   "attachments": {},
   "cell_type": "markdown",
   "metadata": {},
   "source": [
    "#### Day 17"
   ]
  },
  {
   "cell_type": "code",
   "execution_count": null,
   "metadata": {},
   "outputs": [],
   "source": []
  },
  {
   "attachments": {},
   "cell_type": "markdown",
   "metadata": {},
   "source": [
    "#### Day 18"
   ]
  },
  {
   "cell_type": "code",
   "execution_count": null,
   "metadata": {},
   "outputs": [],
   "source": []
  },
  {
   "attachments": {},
   "cell_type": "markdown",
   "metadata": {},
   "source": [
    "#### Day 19"
   ]
  },
  {
   "cell_type": "code",
   "execution_count": null,
   "metadata": {},
   "outputs": [],
   "source": []
  },
  {
   "attachments": {},
   "cell_type": "markdown",
   "metadata": {},
   "source": [
    "#### Day 20"
   ]
  },
  {
   "cell_type": "code",
   "execution_count": null,
   "metadata": {},
   "outputs": [],
   "source": []
  },
  {
   "attachments": {},
   "cell_type": "markdown",
   "metadata": {},
   "source": [
    "#### Day 21"
   ]
  },
  {
   "cell_type": "code",
   "execution_count": null,
   "metadata": {},
   "outputs": [],
   "source": []
  },
  {
   "attachments": {},
   "cell_type": "markdown",
   "metadata": {},
   "source": [
    "#### Day 22"
   ]
  },
  {
   "cell_type": "code",
   "execution_count": null,
   "metadata": {},
   "outputs": [],
   "source": []
  },
  {
   "attachments": {},
   "cell_type": "markdown",
   "metadata": {},
   "source": [
    "#### Day 23"
   ]
  },
  {
   "cell_type": "code",
   "execution_count": null,
   "metadata": {},
   "outputs": [],
   "source": []
  },
  {
   "attachments": {},
   "cell_type": "markdown",
   "metadata": {},
   "source": [
    "#### Day 24"
   ]
  },
  {
   "cell_type": "code",
   "execution_count": null,
   "metadata": {},
   "outputs": [],
   "source": []
  }
 ],
 "metadata": {
  "kernelspec": {
   "display_name": "Python 3",
   "language": "python",
   "name": "python3"
  },
  "language_info": {
   "codemirror_mode": {
    "name": "ipython",
    "version": 3
   },
   "file_extension": ".py",
   "mimetype": "text/x-python",
   "name": "python",
   "nbconvert_exporter": "python",
   "pygments_lexer": "ipython3",
   "version": "3.10.5"
  },
  "orig_nbformat": 4,
  "vscode": {
   "interpreter": {
    "hash": "181910aaa68cd38c7d7c014f0d8f9f2d166eaab60163d0065093fdfa4a43668d"
   }
  }
 },
 "nbformat": 4,
 "nbformat_minor": 2
}
