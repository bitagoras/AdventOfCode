{
 "cells": [
  {
   "attachments": {},
   "cell_type": "markdown",
   "metadata": {},
   "source": [
    "### Advent of Code 2022\n",
    "\n",
    "This notebook contains my solutions for the Advent of Code (https://adventofcode.com/2022) programming challenge."
   ]
  },
  {
   "attachments": {},
   "cell_type": "markdown",
   "metadata": {},
   "source": [
    "#### Day 1"
   ]
  },
  {
   "cell_type": "code",
   "execution_count": 1,
   "metadata": {},
   "outputs": [],
   "source": [
    "# --- Test Input ---\n",
    "\n",
    "input = \"\"\"1000\n",
    "2000\n",
    "3000\n",
    "\n",
    "4000\n",
    "\n",
    "5000\n",
    "6000\n",
    "\n",
    "7000\n",
    "8000\n",
    "9000\n",
    "\n",
    "10000\"\"\"\n"
   ]
  },
  {
   "cell_type": "code",
   "execution_count": 2,
   "metadata": {},
   "outputs": [
    {
     "data": {
      "text/plain": [
       "24000"
      ]
     },
     "execution_count": 2,
     "metadata": {},
     "output_type": "execute_result"
    }
   ],
   "source": [
    "# --- Part 1 ---\n",
    "\n",
    "max([sum(map(int,i.split('\\n'))) for i in input.split('\\n\\n')])"
   ]
  },
  {
   "cell_type": "code",
   "execution_count": 3,
   "metadata": {},
   "outputs": [
    {
     "data": {
      "text/plain": [
       "45000"
      ]
     },
     "execution_count": 3,
     "metadata": {},
     "output_type": "execute_result"
    }
   ],
   "source": [
    "# --- Part 2 ---\n",
    "\n",
    "sum(sorted([sum(map(int,i.split('\\n'))) for i in input.split('\\n\\n')])[-3:])"
   ]
  },
  {
   "cell_type": "markdown",
   "metadata": {},
   "source": [
    "#### Day 2"
   ]
  },
  {
   "cell_type": "code",
   "execution_count": 4,
   "metadata": {},
   "outputs": [],
   "source": [
    "\n",
    "# --- Test Input ---\n",
    "\n",
    "input = \"\"\"A Y\n",
    "B X\n",
    "C Z\"\"\"\n",
    "\n",
    "# A X Rock\n",
    "# B Y Paper\n",
    "# C Z Scissors"
   ]
  },
  {
   "cell_type": "code",
   "execution_count": 5,
   "metadata": {},
   "outputs": [
    {
     "data": {
      "text/plain": [
       "15"
      ]
     },
     "execution_count": 5,
     "metadata": {},
     "output_type": "execute_result"
    }
   ],
   "source": [
    "# --- Part 1 ---\n",
    "\n",
    "d = {'A Y':6, 'B Z':6, 'C X':6, 'A X':3, 'B Y':3, 'C Z':3}\n",
    "sum(['XYZ'.index(i.split()[1])+1 + d.get(i,0) for i in input.split('\\n')])"
   ]
  },
  {
   "cell_type": "code",
   "execution_count": 6,
   "metadata": {},
   "outputs": [
    {
     "data": {
      "text/plain": [
       "12"
      ]
     },
     "execution_count": 6,
     "metadata": {},
     "output_type": "execute_result"
    }
   ],
   "source": [
    "# --- Part 2 ---\n",
    "\n",
    "intList = [('ABC'.index(i.split()[0]),'XYZ'.index(i.split()[1])) for i in input.split('\\n')]\n",
    "sum([(k:=(i + (j-1))%3) + 1 + [6,3,0][i-(k-1)%3] for i,j in intList])"
   ]
  },
  {
   "cell_type": "markdown",
   "metadata": {},
   "source": [
    "#### Day 3"
   ]
  },
  {
   "cell_type": "code",
   "execution_count": 7,
   "metadata": {},
   "outputs": [],
   "source": [
    "# --- Test Input ---\n",
    "\n",
    "input = \"\"\"vJrwpWtwJgWrhcsFMMfFFhFp\n",
    "jqHRNqRjqzjGDLGLrsFMfFZSrLrFZsSL\n",
    "PmmdzqPrVvPwwTWBwg\n",
    "wMqvLMZHhHMvwLHjbvcjnnSBnvTQFn\n",
    "ttgJtRGJQctTZtZT\n",
    "CrZsJsPPZsGzwwsLwLmpwMDw\"\"\""
   ]
  },
  {
   "cell_type": "code",
   "execution_count": 8,
   "metadata": {},
   "outputs": [
    {
     "data": {
      "text/plain": [
       "157"
      ]
     },
     "execution_count": 8,
     "metadata": {},
     "output_type": "execute_result"
    }
   ],
   "source": [
    "# --- Part 1 ---\n",
    "\n",
    "def priority(x): return (ord(x.upper())-65)%26 + x.isupper()*26 + 1\n",
    "sum([priority(set(l[:(n:=len(l)//2)]).intersection(l[n:]).pop()) for l in input.split()])"
   ]
  },
  {
   "cell_type": "code",
   "execution_count": 9,
   "metadata": {},
   "outputs": [
    {
     "data": {
      "text/plain": [
       "70"
      ]
     },
     "execution_count": 9,
     "metadata": {},
     "output_type": "execute_result"
    }
   ],
   "source": [
    "# --- Part 2 ---\n",
    "\n",
    "sum([priority(set.intersection(*map(set,input.split()[i:i+3])).pop()) for i in range(0, len(input.split()), 3)])"
   ]
  },
  {
   "attachments": {},
   "cell_type": "markdown",
   "metadata": {},
   "source": [
    "#### Day 4"
   ]
  },
  {
   "cell_type": "code",
   "execution_count": 10,
   "metadata": {},
   "outputs": [],
   "source": [
    "# --- Test Input ---\n",
    "\n",
    "input = \"\"\"2-4,6-8\n",
    "2-3,4-5\n",
    "5-7,7-9\n",
    "2-8,3-7\n",
    "6-6,4-6\n",
    "2-6,4-8\"\"\""
   ]
  },
  {
   "cell_type": "code",
   "execution_count": 11,
   "metadata": {},
   "outputs": [
    {
     "data": {
      "text/plain": [
       "2"
      ]
     },
     "execution_count": 11,
     "metadata": {},
     "output_type": "execute_result"
    }
   ],
   "source": [
    "# --- Part 1 ---\n",
    "\n",
    "lines = input.split('\\n')\n",
    "c = 0\n",
    "for i in lines:\n",
    "    A0,A1,B0,B1 = map(int,i.replace('-',',').split(','))\n",
    "    c += int((A0>=B0 and A1<=B1) or (B0>=A0 and B1<=A1))\n",
    "c"
   ]
  },
  {
   "cell_type": "code",
   "execution_count": 12,
   "metadata": {},
   "outputs": [
    {
     "data": {
      "text/plain": [
       "4"
      ]
     },
     "execution_count": 12,
     "metadata": {},
     "output_type": "execute_result"
    }
   ],
   "source": [
    "# --- Part 2 ---\n",
    "\n",
    "c = 0\n",
    "for i in lines:\n",
    "    A0,A1,B0,B1 = map(int,i.replace('-',',').split(','))\n",
    "    r1 = range(A0,A1+1)\n",
    "    r2 = range(B0,B1+1)\n",
    "    c += len(set(r1).intersection(r2))>0\n",
    "c"
   ]
  },
  {
   "cell_type": "markdown",
   "metadata": {},
   "source": [
    "#### Day 5"
   ]
  },
  {
   "cell_type": "code",
   "execution_count": 27,
   "metadata": {},
   "outputs": [],
   "source": [
    "# --- Test Input ---\n",
    "\n",
    "input = \"\"\"    [D]    \n",
    "[N] [C]    \n",
    "[Z] [M] [P]\n",
    " 1   2   3 \n",
    "\n",
    "move 1 from 2 to 1\n",
    "move 3 from 1 to 3\n",
    "move 2 from 2 to 1\n",
    "move 1 from 1 to 2\"\"\""
   ]
  },
  {
   "cell_type": "code",
   "execution_count": 28,
   "metadata": {},
   "outputs": [
    {
     "data": {
      "text/plain": [
       "'MCD'"
      ]
     },
     "execution_count": 28,
     "metadata": {},
     "output_type": "execute_result"
    }
   ],
   "source": [
    "# --- Part 1 & 2 ---\n",
    "\n",
    "part = 2\n",
    "\n",
    "import numpy\n",
    "\n",
    "header, data = input.split('\\n\\n')\n",
    "M = [list(l[1::2])[::2] for l in header.split('\\n')[:-1]]\n",
    "m = numpy.array([[' ']*len(M[0])]*(len(M)*10) + M)\n",
    "\n",
    "lines = data.split('\\n')\n",
    "for l in lines:\n",
    "    n,h0,h1 = map(int,l.split()[1::2])\n",
    "    for i in range(n):\n",
    "        t0 = ''.join(m.T[h0-1]).count(' ')\n",
    "        t1 = ''.join(m.T[h1-1]).count(' ')\n",
    "        m[t1-1,h1-1] = m[t0,h0-1]\n",
    "        m[t0,h0-1] = ' '\n",
    "    if part == 2:\n",
    "        m[t1-1:t1+n-1,h1-1] = m[t1-1:t1+n-1,h1-1][::-1] \n",
    "\n",
    "r = []\n",
    "for i in range(m.shape[1]):\n",
    "    t = ''.join(m.T[i]).count(' ')\n",
    "    r.append(m[t,i])\n",
    "''.join(r)"
   ]
  },
  {
   "cell_type": "markdown",
   "metadata": {},
   "source": [
    "#### Day 6"
   ]
  },
  {
   "cell_type": "code",
   "execution_count": 15,
   "metadata": {},
   "outputs": [],
   "source": [
    "# --- Test Input ---\n",
    "\n",
    "input = \"mjqjpqmgbljsphdztnvjfqwrcgsmlb\""
   ]
  },
  {
   "cell_type": "code",
   "execution_count": 16,
   "metadata": {},
   "outputs": [
    {
     "data": {
      "text/plain": [
       "6"
      ]
     },
     "execution_count": 16,
     "metadata": {},
     "output_type": "execute_result"
    }
   ],
   "source": [
    "# --- Part 1 & 2 ---\n",
    "\n",
    "n = 4 # part 1\n",
    "# n = 14 # part 2\n",
    "\n",
    "[i+n-1 for i in range(len(input)-3) if len(set(input[i:i+n]))==n][0]"
   ]
  },
  {
   "cell_type": "markdown",
   "metadata": {},
   "source": [
    "#### Day 7"
   ]
  },
  {
   "cell_type": "code",
   "execution_count": 17,
   "metadata": {},
   "outputs": [],
   "source": [
    "# --- Test Input ---\n",
    "\n",
    "input = \"\"\"$ cd /\n",
    "$ ls\n",
    "dir a\n",
    "14848514 b.txt\n",
    "8504156 c.dat\n",
    "dir d\n",
    "$ cd a\n",
    "$ ls\n",
    "dir e\n",
    "29116 f\n",
    "2557 g\n",
    "62596 h.lst\n",
    "$ cd e\n",
    "$ ls\n",
    "584 i\n",
    "$ cd ..\n",
    "$ cd ..\n",
    "$ cd d\n",
    "$ ls\n",
    "4060174 j\n",
    "8033020 d.log\n",
    "5626152 d.ext\n",
    "7214296 k\"\"\""
   ]
  },
  {
   "cell_type": "code",
   "execution_count": 18,
   "metadata": {},
   "outputs": [
    {
     "name": "stdout",
     "output_type": "stream",
     "text": [
      "part 1: 95437\n",
      "part 2: 24933642\n"
     ]
    }
   ],
   "source": [
    "# --- Part 1 & 2---\n",
    "\n",
    "def recursion(d):\n",
    "    global iPos, sumLog\n",
    "    s = 0\n",
    "    while iPos < len(d):\n",
    "        l = d[iPos]\n",
    "        iPos += 1\n",
    "        if 'cd' in l and not '..' in l:\n",
    "            s += recursion(d)\n",
    "        elif l[0].isdecimal():\n",
    "            s += int(l.split()[0])\n",
    "        elif '..' in l or len(d) == 0:\n",
    "            break\n",
    "    sumLog.append(s)\n",
    "    return s\n",
    "lines = input.split('\\n')\n",
    "sumLog, iPos = [],  0\n",
    "s = recursion(lines)\n",
    "print('part 1:', sum([i for i in sumLog if i <= 100000]))\n",
    "print('part 2:', min([i for i in sumLog if i>30000000-(70000000-s)]))"
   ]
  },
  {
   "cell_type": "code",
   "execution_count": 19,
   "metadata": {},
   "outputs": [
    {
     "name": "stdout",
     "output_type": "stream",
     "text": [
      "part 1: 95437\n",
      "part 2: 24933642\n"
     ]
    }
   ],
   "source": [
    "# --- Part 1 & 2 (alternative without recursive call) ---\n",
    "\n",
    "lines = input.split('\\n')\n",
    "iLevel = -1\n",
    "stack = []\n",
    "sumLog = []\n",
    "for l in lines + ['cd ..'] * 20:\n",
    "    if '$ cd' in l and not '..' in l:\n",
    "        iLevel += 1\n",
    "        stack.append(0)\n",
    "    elif l[0].isdecimal():\n",
    "        stack[iLevel] += int(l.split()[0])\n",
    "    elif '..' in l:\n",
    "        iLevel -= 1\n",
    "        if iLevel == -1: break\n",
    "        sizeDir = stack.pop()\n",
    "        sumLog.append(sizeDir)\n",
    "        stack[iLevel] += sizeDir\n",
    "s = stack[0]\n",
    "print('part 1:', sum([i for i in sumLog if i <= 100000]))\n",
    "print('part 2:', min([i for i in sumLog if i>30000000-(70000000-s)]))"
   ]
  },
  {
   "cell_type": "markdown",
   "metadata": {},
   "source": [
    "#### Day 8"
   ]
  },
  {
   "cell_type": "code",
   "execution_count": 20,
   "metadata": {},
   "outputs": [],
   "source": [
    "input = \"\"\"30373\n",
    "25512\n",
    "65332\n",
    "33549\n",
    "35390\"\"\""
   ]
  },
  {
   "cell_type": "code",
   "execution_count": 21,
   "metadata": {},
   "outputs": [
    {
     "data": {
      "text/plain": [
       "21"
      ]
     },
     "execution_count": 21,
     "metadata": {},
     "output_type": "execute_result"
    }
   ],
   "source": [
    "import numpy\n",
    "\n",
    "# --- Part 1 ---\n",
    "\n",
    "lines = input.split('\\n')\n",
    "A = numpy.array([list(map(int,list(i))) for i in lines])\n",
    "ID = numpy.arange(A.size).reshape(A.shape)\n",
    "visible = []\n",
    "for a,id in (A,ID),(A[::-1].T,ID[::-1].T),(A[:,::-1].T,ID[:,::-1].T),(A[::-1,::-1],ID[::-1,::-1]):\n",
    "    nx, ny = a.shape\n",
    "    for i in range(ny):\n",
    "        v = -1\n",
    "        for j in range(nx):\n",
    "            if a[i,j] > v:\n",
    "                visible.append(id[i,j])\n",
    "                v = a[i,j]\n",
    "len(set(visible))"
   ]
  },
  {
   "cell_type": "code",
   "execution_count": 22,
   "metadata": {},
   "outputs": [
    {
     "data": {
      "text/plain": [
       "8"
      ]
     },
     "execution_count": 22,
     "metadata": {},
     "output_type": "execute_result"
    }
   ],
   "source": [
    "# --- Part 2 ---\n",
    "\n",
    "lines = input.split('\\n')\n",
    "A = numpy.array([list(map(int,list(i))) for i in lines])\n",
    "\n",
    "scores = []\n",
    "nx, ny = A.shape\n",
    "for xPos in range(ny):\n",
    "    for yPos in range(nx):\n",
    "        v = A[yPos,xPos]\n",
    "        vMax = A[yPos,xPos]\n",
    "        score = 1\n",
    "        for view in A[yPos,xPos+1:], reversed(A[yPos,0:xPos]), A[yPos+1:,xPos], reversed(A[0:yPos,xPos]):\n",
    "            vis = []\n",
    "            vPos = A[yPos,xPos]\n",
    "            scoreAdd = 0\n",
    "            vMax = -1\n",
    "            for v in view:\n",
    "                if v < vPos or v >= vMax or vMax == -1:\n",
    "                    vMax = v\n",
    "                    vis.append(v)\n",
    "                    scoreAdd += 1\n",
    "                    if v >= vPos: break\n",
    "            score *= scoreAdd\n",
    "        scores.append(score)\n",
    "max(scores)"
   ]
  },
  {
   "cell_type": "markdown",
   "metadata": {},
   "source": [
    "#### Day 9"
   ]
  },
  {
   "cell_type": "code",
   "execution_count": 23,
   "metadata": {},
   "outputs": [],
   "source": [
    "testinput1 = \"\"\"R 4\n",
    "U 4\n",
    "L 3\n",
    "D 1\n",
    "R 4\n",
    "D 1\n",
    "L 5\n",
    "R 2\"\"\"\n",
    "\n",
    "testinput2 = \"\"\"R 5\n",
    "U 8\n",
    "L 8\n",
    "D 3\n",
    "R 17\n",
    "D 10\n",
    "L 25\n",
    "U 20\"\"\""
   ]
  },
  {
   "cell_type": "code",
   "execution_count": 24,
   "metadata": {},
   "outputs": [
    {
     "data": {
      "text/plain": [
       "36"
      ]
     },
     "execution_count": 24,
     "metadata": {},
     "output_type": "execute_result"
    }
   ],
   "source": [
    "# nx, input = 2, testinput1  # Part 1\n",
    "nx, input = 10, testinput2  # Part 2\n",
    "\n",
    "# --- Part 1 & 2 ---\n",
    "\n",
    "import numpy\n",
    "\n",
    "T = numpy.zeros((2000,2000), 'i')\n",
    "x = numpy.zeros((nx,2), 'i') + [1000,1000]\n",
    "M = {'U': (1,0), 'D': (-1,0), 'R': (0,1), 'L': (0,-1)}\n",
    "for line in input.split('\\n'):\n",
    "    D,n = line.split()\n",
    "    n = int(n)\n",
    "    for i in range(n):\n",
    "        x[0] += M[D]\n",
    "        for j in range(nx-1):\n",
    "            xH, xT = x[j], x[j+1]\n",
    "            delta = xT - xH\n",
    "            if 1 in numpy.abs(delta) and 2 in numpy.abs(delta): # neither rectangular nor diagonal e.g. (1,-2)\n",
    "                iXMin = numpy.argmin(numpy.abs(delta))\n",
    "                xT[iXMin] = xH[iXMin]\n",
    "            delta = xT - xH\n",
    "            l = numpy.max(numpy.abs(delta))\n",
    "            if l == 2: # rectangular or diagonal e.g. delta = (2,0) or (2,-2)\n",
    "                xT -= delta // 2\n",
    "        T[xT[0],xT[1]] = 1\n",
    "numpy.sum(T)"
   ]
  },
  {
   "attachments": {},
   "cell_type": "markdown",
   "metadata": {},
   "source": [
    "#### Day 10"
   ]
  },
  {
   "cell_type": "code",
   "execution_count": null,
   "metadata": {},
   "outputs": [],
   "source": []
  },
  {
   "attachments": {},
   "cell_type": "markdown",
   "metadata": {},
   "source": [
    "#### Day 11"
   ]
  },
  {
   "cell_type": "code",
   "execution_count": null,
   "metadata": {},
   "outputs": [],
   "source": []
  },
  {
   "attachments": {},
   "cell_type": "markdown",
   "metadata": {},
   "source": [
    "#### Day 12"
   ]
  },
  {
   "cell_type": "code",
   "execution_count": null,
   "metadata": {},
   "outputs": [],
   "source": []
  },
  {
   "attachments": {},
   "cell_type": "markdown",
   "metadata": {},
   "source": [
    "#### Day 13"
   ]
  },
  {
   "cell_type": "code",
   "execution_count": null,
   "metadata": {},
   "outputs": [],
   "source": []
  },
  {
   "attachments": {},
   "cell_type": "markdown",
   "metadata": {},
   "source": [
    "#### Day 14"
   ]
  },
  {
   "cell_type": "code",
   "execution_count": null,
   "metadata": {},
   "outputs": [],
   "source": []
  },
  {
   "attachments": {},
   "cell_type": "markdown",
   "metadata": {},
   "source": [
    "#### Day 15"
   ]
  },
  {
   "cell_type": "code",
   "execution_count": null,
   "metadata": {},
   "outputs": [],
   "source": []
  },
  {
   "attachments": {},
   "cell_type": "markdown",
   "metadata": {},
   "source": [
    "#### Day 16"
   ]
  },
  {
   "cell_type": "code",
   "execution_count": null,
   "metadata": {},
   "outputs": [],
   "source": []
  },
  {
   "attachments": {},
   "cell_type": "markdown",
   "metadata": {},
   "source": [
    "#### Day 17"
   ]
  },
  {
   "cell_type": "code",
   "execution_count": null,
   "metadata": {},
   "outputs": [],
   "source": []
  },
  {
   "attachments": {},
   "cell_type": "markdown",
   "metadata": {},
   "source": [
    "#### Day 18"
   ]
  },
  {
   "cell_type": "code",
   "execution_count": null,
   "metadata": {},
   "outputs": [],
   "source": []
  },
  {
   "attachments": {},
   "cell_type": "markdown",
   "metadata": {},
   "source": [
    "#### Day 19"
   ]
  },
  {
   "cell_type": "code",
   "execution_count": null,
   "metadata": {},
   "outputs": [],
   "source": []
  },
  {
   "attachments": {},
   "cell_type": "markdown",
   "metadata": {},
   "source": [
    "#### Day 20"
   ]
  },
  {
   "cell_type": "code",
   "execution_count": null,
   "metadata": {},
   "outputs": [],
   "source": []
  },
  {
   "attachments": {},
   "cell_type": "markdown",
   "metadata": {},
   "source": [
    "#### Day 21"
   ]
  },
  {
   "cell_type": "code",
   "execution_count": null,
   "metadata": {},
   "outputs": [],
   "source": []
  },
  {
   "attachments": {},
   "cell_type": "markdown",
   "metadata": {},
   "source": [
    "#### Day 22"
   ]
  },
  {
   "cell_type": "code",
   "execution_count": null,
   "metadata": {},
   "outputs": [],
   "source": []
  },
  {
   "attachments": {},
   "cell_type": "markdown",
   "metadata": {},
   "source": [
    "#### Day 23"
   ]
  },
  {
   "cell_type": "code",
   "execution_count": null,
   "metadata": {},
   "outputs": [],
   "source": []
  },
  {
   "attachments": {},
   "cell_type": "markdown",
   "metadata": {},
   "source": [
    "#### Day 24"
   ]
  },
  {
   "cell_type": "code",
   "execution_count": null,
   "metadata": {},
   "outputs": [],
   "source": []
  }
 ],
 "metadata": {
  "kernelspec": {
   "display_name": "Python 3",
   "language": "python",
   "name": "python3"
  },
  "language_info": {
   "codemirror_mode": {
    "name": "ipython",
    "version": 3
   },
   "file_extension": ".py",
   "mimetype": "text/x-python",
   "name": "python",
   "nbconvert_exporter": "python",
   "pygments_lexer": "ipython3",
   "version": "3.10.5"
  },
  "orig_nbformat": 4,
  "vscode": {
   "interpreter": {
    "hash": "181910aaa68cd38c7d7c014f0d8f9f2d166eaab60163d0065093fdfa4a43668d"
   }
  }
 },
 "nbformat": 4,
 "nbformat_minor": 2
}
