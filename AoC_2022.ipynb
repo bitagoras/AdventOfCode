{
 "cells": [
  {
   "attachments": {},
   "cell_type": "markdown",
   "metadata": {},
   "source": [
    "### Advent of Code 2022\n",
    "\n",
    "This notebook contains my solutions for the Advent of Code (https://adventofcode.com/2022) programming challenge."
   ]
  },
  {
   "attachments": {},
   "cell_type": "markdown",
   "metadata": {},
   "source": [
    "#### Day 1: Calorie Counting\n",
    "https://adventofcode.com/2022/day/1"
   ]
  },
  {
   "cell_type": "code",
   "execution_count": 1,
   "metadata": {},
   "outputs": [],
   "source": [
    "\n",
    "\n",
    "# --- Test Input ---\n",
    "\n",
    "input = \"\"\"1000\n",
    "2000\n",
    "3000\n",
    "\n",
    "4000\n",
    "\n",
    "5000\n",
    "6000\n",
    "\n",
    "7000\n",
    "8000\n",
    "9000\n",
    "\n",
    "10000\"\"\"\n"
   ]
  },
  {
   "cell_type": "code",
   "execution_count": 2,
   "metadata": {},
   "outputs": [
    {
     "data": {
      "text/plain": [
       "24000"
      ]
     },
     "execution_count": 2,
     "metadata": {},
     "output_type": "execute_result"
    }
   ],
   "source": [
    "# --- Part 1 ---\n",
    "\n",
    "max([sum(map(int,i.split('\\n'))) for i in input.split('\\n\\n')])"
   ]
  },
  {
   "cell_type": "code",
   "execution_count": 3,
   "metadata": {},
   "outputs": [
    {
     "data": {
      "text/plain": [
       "45000"
      ]
     },
     "execution_count": 3,
     "metadata": {},
     "output_type": "execute_result"
    }
   ],
   "source": [
    "# --- Part 2 ---\n",
    "\n",
    "sum(sorted([sum(map(int,i.split('\\n'))) for i in input.split('\\n\\n')])[-3:])"
   ]
  },
  {
   "attachments": {},
   "cell_type": "markdown",
   "metadata": {},
   "source": [
    "#### Day 2: Rock Paper Scissors\n",
    "https://adventofcode.com/2022/day/2"
   ]
  },
  {
   "cell_type": "code",
   "execution_count": 4,
   "metadata": {},
   "outputs": [],
   "source": [
    "\n",
    "# --- Test Input ---\n",
    "\n",
    "input = \"\"\"A Y\n",
    "B X\n",
    "C Z\"\"\"\n",
    "\n",
    "# A X Rock\n",
    "# B Y Paper\n",
    "# C Z Scissors"
   ]
  },
  {
   "cell_type": "code",
   "execution_count": 5,
   "metadata": {},
   "outputs": [
    {
     "data": {
      "text/plain": [
       "15"
      ]
     },
     "execution_count": 5,
     "metadata": {},
     "output_type": "execute_result"
    }
   ],
   "source": [
    "# --- Part 1 ---\n",
    "\n",
    "d = {'A Y':6, 'B Z':6, 'C X':6, 'A X':3, 'B Y':3, 'C Z':3}\n",
    "sum(['XYZ'.index(i.split()[1])+1 + d.get(i,0) for i in input.split('\\n')])"
   ]
  },
  {
   "cell_type": "code",
   "execution_count": 6,
   "metadata": {},
   "outputs": [
    {
     "data": {
      "text/plain": [
       "12"
      ]
     },
     "execution_count": 6,
     "metadata": {},
     "output_type": "execute_result"
    }
   ],
   "source": [
    "# --- Part 2 ---\n",
    "\n",
    "intList = [('ABC'.index(i.split()[0]),'XYZ'.index(i.split()[1])) for i in input.split('\\n')]\n",
    "sum([(k:=(i + (j-1))%3) + 1 + [6,3,0][i-(k-1)%3] for i,j in intList])"
   ]
  },
  {
   "attachments": {},
   "cell_type": "markdown",
   "metadata": {},
   "source": [
    "#### Day 3: : Rucksack Reorganization\n",
    "https://adventofcode.com/2022/day/3"
   ]
  },
  {
   "cell_type": "code",
   "execution_count": 7,
   "metadata": {},
   "outputs": [],
   "source": [
    "# --- Test Input ---\n",
    "\n",
    "input = \"\"\"vJrwpWtwJgWrhcsFMMfFFhFp\n",
    "jqHRNqRjqzjGDLGLrsFMfFZSrLrFZsSL\n",
    "PmmdzqPrVvPwwTWBwg\n",
    "wMqvLMZHhHMvwLHjbvcjnnSBnvTQFn\n",
    "ttgJtRGJQctTZtZT\n",
    "CrZsJsPPZsGzwwsLwLmpwMDw\"\"\""
   ]
  },
  {
   "cell_type": "code",
   "execution_count": 8,
   "metadata": {},
   "outputs": [
    {
     "data": {
      "text/plain": [
       "157"
      ]
     },
     "execution_count": 8,
     "metadata": {},
     "output_type": "execute_result"
    }
   ],
   "source": [
    "# --- Part 1 ---\n",
    "\n",
    "def priority(x): return (ord(x.upper())-65)%26 + x.isupper()*26 + 1\n",
    "sum([priority(set(l[:(n:=len(l)//2)]).intersection(l[n:]).pop()) for l in input.split()])"
   ]
  },
  {
   "cell_type": "code",
   "execution_count": 9,
   "metadata": {},
   "outputs": [
    {
     "data": {
      "text/plain": [
       "70"
      ]
     },
     "execution_count": 9,
     "metadata": {},
     "output_type": "execute_result"
    }
   ],
   "source": [
    "# --- Part 2 ---\n",
    "\n",
    "sum([priority(set.intersection(*map(set,input.split()[i:i+3])).pop()) for i in range(0, len(input.split()), 3)])"
   ]
  },
  {
   "attachments": {},
   "cell_type": "markdown",
   "metadata": {},
   "source": [
    "#### Day 4: Camp Cleanup\n",
    "https://adventofcode.com/2022/day/4"
   ]
  },
  {
   "cell_type": "code",
   "execution_count": 10,
   "metadata": {},
   "outputs": [],
   "source": [
    "# --- Test Input ---\n",
    "\n",
    "input = \"\"\"2-4,6-8\n",
    "2-3,4-5\n",
    "5-7,7-9\n",
    "2-8,3-7\n",
    "6-6,4-6\n",
    "2-6,4-8\"\"\""
   ]
  },
  {
   "cell_type": "code",
   "execution_count": 11,
   "metadata": {},
   "outputs": [
    {
     "data": {
      "text/plain": [
       "2"
      ]
     },
     "execution_count": 11,
     "metadata": {},
     "output_type": "execute_result"
    }
   ],
   "source": [
    "# --- Part 1 ---\n",
    "\n",
    "lines = input.split('\\n')\n",
    "c = 0\n",
    "for i in lines:\n",
    "    A0,A1,B0,B1 = map(int,i.replace('-',',').split(','))\n",
    "    c += int((A0>=B0 and A1<=B1) or (B0>=A0 and B1<=A1))\n",
    "c"
   ]
  },
  {
   "cell_type": "code",
   "execution_count": 12,
   "metadata": {},
   "outputs": [
    {
     "data": {
      "text/plain": [
       "4"
      ]
     },
     "execution_count": 12,
     "metadata": {},
     "output_type": "execute_result"
    }
   ],
   "source": [
    "# --- Part 2 ---\n",
    "\n",
    "c = 0\n",
    "for i in lines:\n",
    "    A0,A1,B0,B1 = map(int,i.replace('-',',').split(','))\n",
    "    r1 = range(A0,A1+1)\n",
    "    r2 = range(B0,B1+1)\n",
    "    c += len(set(r1).intersection(r2))>0\n",
    "c"
   ]
  },
  {
   "attachments": {},
   "cell_type": "markdown",
   "metadata": {},
   "source": [
    "#### Day 5: Supply Stacks\n",
    "https://adventofcode.com/2022/day/5"
   ]
  },
  {
   "cell_type": "code",
   "execution_count": 13,
   "metadata": {},
   "outputs": [],
   "source": [
    "# --- Test Input ---\n",
    "\n",
    "input = \"\"\"    [D]    \n",
    "[N] [C]    \n",
    "[Z] [M] [P]\n",
    " 1   2   3 \n",
    "\n",
    "move 1 from 2 to 1\n",
    "move 3 from 1 to 3\n",
    "move 2 from 2 to 1\n",
    "move 1 from 1 to 2\"\"\""
   ]
  },
  {
   "cell_type": "code",
   "execution_count": 14,
   "metadata": {},
   "outputs": [
    {
     "data": {
      "text/plain": [
       "'MCD'"
      ]
     },
     "execution_count": 14,
     "metadata": {},
     "output_type": "execute_result"
    }
   ],
   "source": [
    "# --- Part 1 & 2 ---\n",
    "\n",
    "part = 2\n",
    "\n",
    "import numpy\n",
    "\n",
    "header, data = input.split('\\n\\n')\n",
    "M = [list(l[1::2])[::2] for l in header.split('\\n')[:-1]]\n",
    "m = numpy.array([[' ']*len(M[0])]*(len(M)*10) + M)\n",
    "\n",
    "lines = data.split('\\n')\n",
    "for l in lines:\n",
    "    n,h0,h1 = map(int,l.split()[1::2])\n",
    "    for i in range(n):\n",
    "        t0 = ''.join(m.T[h0-1]).count(' ')\n",
    "        t1 = ''.join(m.T[h1-1]).count(' ')\n",
    "        m[t1-1,h1-1] = m[t0,h0-1]\n",
    "        m[t0,h0-1] = ' '\n",
    "    if part == 2:\n",
    "        m[t1-1:t1+n-1,h1-1] = m[t1-1:t1+n-1,h1-1][::-1] \n",
    "\n",
    "r = []\n",
    "for i in range(m.shape[1]):\n",
    "    t = ''.join(m.T[i]).count(' ')\n",
    "    r.append(m[t,i])\n",
    "''.join(r)"
   ]
  },
  {
   "attachments": {},
   "cell_type": "markdown",
   "metadata": {},
   "source": [
    "#### Day 6: Tuning Trouble\n",
    "https://adventofcode.com/2022/day/6"
   ]
  },
  {
   "cell_type": "code",
   "execution_count": 15,
   "metadata": {},
   "outputs": [],
   "source": [
    "# --- Test Input ---\n",
    "\n",
    "input = \"mjqjpqmgbljsphdztnvjfqwrcgsmlb\""
   ]
  },
  {
   "cell_type": "code",
   "execution_count": 16,
   "metadata": {},
   "outputs": [
    {
     "data": {
      "text/plain": [
       "6"
      ]
     },
     "execution_count": 16,
     "metadata": {},
     "output_type": "execute_result"
    }
   ],
   "source": [
    "# --- Part 1 & 2 ---\n",
    "\n",
    "n = 4 # part 1\n",
    "# n = 14 # part 2\n",
    "\n",
    "[i+n-1 for i in range(len(input)-3) if len(set(input[i:i+n]))==n][0]"
   ]
  },
  {
   "attachments": {},
   "cell_type": "markdown",
   "metadata": {},
   "source": [
    "#### Day 7: No Space Left On Device\n",
    "https://adventofcode.com/2022/day/7"
   ]
  },
  {
   "cell_type": "code",
   "execution_count": 17,
   "metadata": {},
   "outputs": [],
   "source": [
    "# --- Test Input ---\n",
    "\n",
    "input = \"\"\"$ cd /\n",
    "$ ls\n",
    "dir a\n",
    "14848514 b.txt\n",
    "8504156 c.dat\n",
    "dir d\n",
    "$ cd a\n",
    "$ ls\n",
    "dir e\n",
    "29116 f\n",
    "2557 g\n",
    "62596 h.lst\n",
    "$ cd e\n",
    "$ ls\n",
    "584 i\n",
    "$ cd ..\n",
    "$ cd ..\n",
    "$ cd d\n",
    "$ ls\n",
    "4060174 j\n",
    "8033020 d.log\n",
    "5626152 d.ext\n",
    "7214296 k\"\"\""
   ]
  },
  {
   "cell_type": "code",
   "execution_count": 18,
   "metadata": {},
   "outputs": [
    {
     "name": "stdout",
     "output_type": "stream",
     "text": [
      "part 1: 95437\n",
      "part 2: 24933642\n"
     ]
    }
   ],
   "source": [
    "# --- Part 1 & 2---\n",
    "\n",
    "def recursion(d):\n",
    "    global iPos, sumLog\n",
    "    s = 0\n",
    "    while iPos < len(d):\n",
    "        l = d[iPos]\n",
    "        iPos += 1\n",
    "        if 'cd' in l and not '..' in l:\n",
    "            s += recursion(d)\n",
    "        elif l[0].isdecimal():\n",
    "            s += int(l.split()[0])\n",
    "        elif '..' in l or len(d) == 0:\n",
    "            break\n",
    "    sumLog.append(s)\n",
    "    return s\n",
    "lines = input.split('\\n')\n",
    "sumLog, iPos = [],  0\n",
    "s = recursion(lines)\n",
    "print('part 1:', sum([i for i in sumLog if i <= 100000]))\n",
    "print('part 2:', min([i for i in sumLog if i>30000000-(70000000-s)]))"
   ]
  },
  {
   "cell_type": "code",
   "execution_count": 19,
   "metadata": {},
   "outputs": [
    {
     "name": "stdout",
     "output_type": "stream",
     "text": [
      "part 1: 95437\n",
      "part 2: 24933642\n"
     ]
    }
   ],
   "source": [
    "# --- Part 1 & 2 (alternative without recursive call) ---\n",
    "\n",
    "lines = input.split('\\n')\n",
    "iLevel = -1\n",
    "stack = []\n",
    "sumLog = []\n",
    "for l in lines + ['cd ..'] * 20:\n",
    "    if '$ cd' in l and not '..' in l:\n",
    "        iLevel += 1\n",
    "        stack.append(0)\n",
    "    elif l[0].isdecimal():\n",
    "        stack[iLevel] += int(l.split()[0])\n",
    "    elif '..' in l:\n",
    "        iLevel -= 1\n",
    "        if iLevel == -1: break\n",
    "        sizeDir = stack.pop()\n",
    "        sumLog.append(sizeDir)\n",
    "        stack[iLevel] += sizeDir\n",
    "s = stack[0]\n",
    "print('part 1:', sum([i for i in sumLog if i <= 100000]))\n",
    "print('part 2:', min([i for i in sumLog if i>30000000-(70000000-s)]))"
   ]
  },
  {
   "attachments": {},
   "cell_type": "markdown",
   "metadata": {},
   "source": [
    "#### Day 8: Treetop Tree House\n",
    "https://adventofcode.com/2022/day/8"
   ]
  },
  {
   "cell_type": "code",
   "execution_count": 20,
   "metadata": {},
   "outputs": [],
   "source": [
    "# --- Test Input ---\n",
    "\n",
    "input = \"\"\"30373\n",
    "25512\n",
    "65332\n",
    "33549\n",
    "35390\"\"\""
   ]
  },
  {
   "cell_type": "code",
   "execution_count": 21,
   "metadata": {},
   "outputs": [
    {
     "data": {
      "text/plain": [
       "21"
      ]
     },
     "execution_count": 21,
     "metadata": {},
     "output_type": "execute_result"
    }
   ],
   "source": [
    "import numpy\n",
    "\n",
    "# --- Part 1 ---\n",
    "\n",
    "lines = input.split('\\n')\n",
    "A = numpy.array([list(map(int,list(i))) for i in lines])\n",
    "ID = numpy.arange(A.size).reshape(A.shape)\n",
    "visible = []\n",
    "for a,id in (A,ID),(A[::-1].T,ID[::-1].T),(A[:,::-1].T,ID[:,::-1].T),(A[::-1,::-1],ID[::-1,::-1]):\n",
    "    nx, ny = a.shape\n",
    "    for i in range(ny):\n",
    "        v = -1\n",
    "        for j in range(nx):\n",
    "            if a[i,j] > v:\n",
    "                visible.append(id[i,j])\n",
    "                v = a[i,j]\n",
    "len(set(visible))"
   ]
  },
  {
   "cell_type": "code",
   "execution_count": 22,
   "metadata": {},
   "outputs": [
    {
     "data": {
      "text/plain": [
       "8"
      ]
     },
     "execution_count": 22,
     "metadata": {},
     "output_type": "execute_result"
    }
   ],
   "source": [
    "# --- Part 2 ---\n",
    "\n",
    "lines = input.split('\\n')\n",
    "A = numpy.array([list(map(int,list(i))) for i in lines])\n",
    "\n",
    "scores = []\n",
    "nx, ny = A.shape\n",
    "for xPos in range(ny):\n",
    "    for yPos in range(nx):\n",
    "        v = A[yPos,xPos]\n",
    "        vMax = A[yPos,xPos]\n",
    "        score = 1\n",
    "        for view in A[yPos,xPos+1:], reversed(A[yPos,0:xPos]), A[yPos+1:,xPos], reversed(A[0:yPos,xPos]):\n",
    "            vis = []\n",
    "            vPos = A[yPos,xPos]\n",
    "            scoreAdd = 0\n",
    "            vMax = -1\n",
    "            for v in view:\n",
    "                if v < vPos or v >= vMax or vMax == -1:\n",
    "                    vMax = v\n",
    "                    vis.append(v)\n",
    "                    scoreAdd += 1\n",
    "                    if v >= vPos: break\n",
    "            score *= scoreAdd\n",
    "        scores.append(score)\n",
    "max(scores)"
   ]
  },
  {
   "attachments": {},
   "cell_type": "markdown",
   "metadata": {},
   "source": [
    "#### Day 9: Rope Bridge\n",
    "https://adventofcode.com/2022/day/9"
   ]
  },
  {
   "cell_type": "code",
   "execution_count": 23,
   "metadata": {},
   "outputs": [],
   "source": [
    "# --- Test Input ---\n",
    "\n",
    "testinput1 = \"\"\"R 4\n",
    "U 4\n",
    "L 3\n",
    "D 1\n",
    "R 4\n",
    "D 1\n",
    "L 5\n",
    "R 2\"\"\"\n",
    "\n",
    "testinput2 = \"\"\"R 5\n",
    "U 8\n",
    "L 8\n",
    "D 3\n",
    "R 17\n",
    "D 10\n",
    "L 25\n",
    "U 20\"\"\""
   ]
  },
  {
   "cell_type": "code",
   "execution_count": 24,
   "metadata": {},
   "outputs": [
    {
     "data": {
      "text/plain": [
       "36"
      ]
     },
     "execution_count": 24,
     "metadata": {},
     "output_type": "execute_result"
    }
   ],
   "source": [
    "# nx, input = 2, testinput1  # Part 1\n",
    "nx, input = 10, testinput2  # Part 2\n",
    "\n",
    "# --- Part 1 & 2 ---\n",
    "\n",
    "import numpy\n",
    "\n",
    "T = numpy.zeros((2000,2000), 'i')\n",
    "x = numpy.zeros((nx,2), 'i') + [1000,1000]\n",
    "M = {'U': (1,0), 'D': (-1,0), 'R': (0,1), 'L': (0,-1)}\n",
    "for line in input.split('\\n'):\n",
    "    D,n = line.split()\n",
    "    n = int(n)\n",
    "    for i in range(n):\n",
    "        x[0] += M[D]\n",
    "        for j in range(nx-1):\n",
    "            xH, xT = x[j], x[j+1]\n",
    "            delta = xT - xH\n",
    "            if 1 in numpy.abs(delta) and 2 in numpy.abs(delta): # neither rectangular nor diagonal e.g. (1,-2)\n",
    "                iXMin = numpy.argmin(numpy.abs(delta))\n",
    "                xT[iXMin] = xH[iXMin]\n",
    "            delta = xT - xH\n",
    "            l = numpy.max(numpy.abs(delta))\n",
    "            if l == 2: # rectangular or diagonal e.g. delta = (2,0) or (2,-2)\n",
    "                xT -= delta // 2\n",
    "        T[xT[0],xT[1]] = 1\n",
    "numpy.sum(T)"
   ]
  },
  {
   "attachments": {},
   "cell_type": "markdown",
   "metadata": {},
   "source": [
    "#### Day 10: Cathode-Ray Tube\n",
    "https://adventofcode.com/2022/day/10"
   ]
  },
  {
   "cell_type": "code",
   "execution_count": 25,
   "metadata": {},
   "outputs": [],
   "source": [
    "# --- Test Input ---\n",
    "\n",
    "input0 = \"\"\"noop\n",
    "addx 3\n",
    "addx -5\"\"\"\n",
    "\n",
    "input = \"addx 15\\naddx -11\\naddx 6\\naddx -3\\naddx 5\\naddx -1\\naddx -8\\naddx 13\\naddx 4\\nnoop\\naddx -1\\naddx 5\\naddx -1\\naddx 5\\naddx -1\\naddx 5\\naddx -1\\naddx 5\\naddx -1\\naddx -35\\naddx 1\\naddx 24\\naddx -19\\naddx 1\\naddx 16\\naddx -11\\nnoop\\nnoop\\naddx 21\\naddx -15\\nnoop\\nnoop\\naddx -3\\naddx 9\\naddx 1\\naddx -3\\naddx 8\\naddx 1\\naddx 5\\nnoop\\nnoop\\nnoop\\nnoop\\nnoop\\naddx -36\\nnoop\\naddx 1\\naddx 7\\nnoop\\nnoop\\nnoop\\naddx 2\\naddx 6\\nnoop\\nnoop\\nnoop\\nnoop\\nnoop\\naddx 1\\nnoop\\nnoop\\naddx 7\\naddx 1\\nnoop\\naddx -13\\naddx 13\\naddx 7\\nnoop\\naddx 1\\naddx -33\\nnoop\\nnoop\\nnoop\\naddx 2\\nnoop\\nnoop\\nnoop\\naddx 8\\nnoop\\naddx -1\\naddx 2\\naddx 1\\nnoop\\naddx 17\\naddx -9\\naddx 1\\naddx 1\\naddx -3\\naddx 11\\nnoop\\nnoop\\naddx 1\\nnoop\\naddx 1\\nnoop\\nnoop\\naddx -13\\naddx -19\\naddx 1\\naddx 3\\naddx 26\\naddx -30\\naddx 12\\naddx -1\\naddx 3\\naddx 1\\nnoop\\nnoop\\nnoop\\naddx -9\\naddx 18\\naddx 1\\naddx 2\\nnoop\\nnoop\\naddx 9\\nnoop\\nnoop\\nnoop\\naddx -1\\naddx 2\\naddx -37\\naddx 1\\naddx 3\\nnoop\\naddx 15\\naddx -21\\naddx 22\\naddx -6\\naddx 1\\nnoop\\naddx 2\\naddx 1\\nnoop\\naddx -10\\nnoop\\nnoop\\naddx 20\\naddx 1\\naddx 2\\naddx 2\\naddx -6\\naddx -11\\nnoop\\nnoop\\nnoop\""
   ]
  },
  {
   "cell_type": "code",
   "execution_count": 26,
   "metadata": {},
   "outputs": [
    {
     "data": {
      "text/plain": [
       "13140"
      ]
     },
     "execution_count": 26,
     "metadata": {},
     "output_type": "execute_result"
    }
   ],
   "source": [
    "# --- part 1 ---\n",
    "\n",
    "lines = input.split('\\n')\n",
    "\n",
    "X = 1\n",
    "sSum = 0\n",
    "iCycle = 0\n",
    "for line in lines:\n",
    "    if line.startswith('addx'):\n",
    "        iCycle += 1\n",
    "        if (iCycle-20)%40 == 0:\n",
    "            sSum += iCycle*X\n",
    "        iCycle += 1\n",
    "        if (iCycle-20)%40 == 0:\n",
    "            sSum += iCycle*X\n",
    "        X += int(line.split()[1])\n",
    "    else:\n",
    "        iCycle += 1\n",
    "        if (iCycle-20)%40 == 0:\n",
    "            sSum += iCycle*X\n",
    "sSum\n"
   ]
  },
  {
   "cell_type": "code",
   "execution_count": 27,
   "metadata": {},
   "outputs": [],
   "source": [
    "# --- User Input ---\n",
    "input = \"noop\\nnoop\\nnoop\\naddx 4\\naddx 3\\naddx 3\\naddx 3\\nnoop\\naddx 2\\naddx 1\\naddx -7\\naddx 10\\naddx 1\\naddx 5\\naddx -3\\naddx -7\\naddx 13\\naddx 5\\naddx 2\\naddx 1\\naddx -30\\naddx -8\\nnoop\\naddx 3\\naddx 2\\naddx 7\\nnoop\\naddx -2\\naddx 5\\naddx 2\\naddx -7\\naddx 8\\naddx 2\\naddx 5\\naddx 2\\naddx -12\\nnoop\\naddx 17\\naddx 3\\naddx -2\\naddx 2\\nnoop\\naddx 3\\naddx -38\\nnoop\\naddx 3\\naddx 4\\nnoop\\naddx 5\\nnoop\\nnoop\\nnoop\\naddx 1\\naddx 2\\naddx 5\\naddx 2\\naddx -3\\naddx 4\\naddx 2\\nnoop\\nnoop\\naddx 7\\naddx -30\\naddx 31\\naddx 4\\nnoop\\naddx -24\\naddx -12\\naddx 1\\naddx 5\\naddx 5\\nnoop\\nnoop\\nnoop\\naddx -12\\naddx 13\\naddx 4\\nnoop\\naddx 23\\naddx -19\\naddx 1\\naddx 5\\naddx 12\\naddx -28\\naddx 19\\nnoop\\naddx 3\\naddx 2\\naddx 5\\naddx -40\\naddx 4\\naddx 32\\naddx -31\\nnoop\\naddx 13\\naddx -8\\naddx 5\\naddx 2\\naddx 5\\nnoop\\nnoop\\nnoop\\naddx 2\\naddx -7\\naddx 8\\naddx -7\\naddx 14\\naddx 3\\naddx -2\\naddx 2\\naddx 5\\naddx -40\\nnoop\\nnoop\\naddx 3\\naddx 4\\naddx 1\\nnoop\\naddx 2\\naddx 5\\naddx 2\\naddx 21\\nnoop\\naddx -16\\naddx 3\\nnoop\\naddx 2\\nnoop\\naddx 1\\nnoop\\nnoop\\naddx 4\\naddx 5\\nnoop\\nnoop\\nnoop\\nnoop\\nnoop\\nnoop\\nnoop\""
   ]
  },
  {
   "cell_type": "code",
   "execution_count": 28,
   "metadata": {},
   "outputs": [
    {
     "name": "stdout",
     "output_type": "stream",
     "text": [
      "###..####.#..#.###..###..#....#..#.###..\n",
      "#..#.#....#..#.#..#.#..#.#....#..#.#..#.\n",
      "#..#.###..####.#..#.#..#.#....#..#.###..\n",
      "###..#....#..#.###..###..#....#..#.#..##\n",
      "#.#..#....#..#.#....#.#..#....#..#.#..##\n",
      "#..#.####.#..#.#....#..#.####..##..###..\n"
     ]
    }
   ],
   "source": [
    "\n",
    "# --- part 2 ---\n",
    "\n",
    "lines = input.split('\\n')\n",
    "\n",
    "def draw(iCycle,i):\n",
    "    global CRT\n",
    "    if iCycle%40 == i or iCycle%40 == i+1 or iCycle%40 == i+2:\n",
    "        CRT[iCycle-1] = '#'\n",
    "\n",
    "CRT = list('.'*(40*6))\n",
    "X = 1\n",
    "iCycle = 0\n",
    "for line in lines:\n",
    "    if line.startswith('addx'):\n",
    "        iCycle += 1\n",
    "        draw(iCycle,X)\n",
    "        iCycle += 1\n",
    "        draw(iCycle,X)\n",
    "        X += int(line.split()[1])\n",
    "    else:\n",
    "        iCycle += 1\n",
    "        draw(iCycle,X)\n",
    "print('\\n'.join([''.join(CRT[i*40:(i+1)*40]) for i in range(6)]))"
   ]
  },
  {
   "attachments": {},
   "cell_type": "markdown",
   "metadata": {},
   "source": [
    "#### Day 11: Monkey in the Middle\n",
    "https://adventofcode.com/2022/day/11"
   ]
  },
  {
   "cell_type": "code",
   "execution_count": 29,
   "metadata": {},
   "outputs": [],
   "source": [
    "# --- Test Input ---\n",
    "\n",
    "input = \"\"\"Monkey 0:\n",
    "  Starting items: 79, 98\n",
    "  Operation: new = old * 19\n",
    "  Test: divisible by 23\n",
    "    If true: throw to monkey 2\n",
    "    If false: throw to monkey 3\n",
    "\n",
    "Monkey 1:\n",
    "  Starting items: 54, 65, 75, 74\n",
    "  Operation: new = old + 6\n",
    "  Test: divisible by 19\n",
    "    If true: throw to monkey 2\n",
    "    If false: throw to monkey 0\n",
    "\n",
    "Monkey 2:\n",
    "  Starting items: 79, 60, 97\n",
    "  Operation: new = old * old\n",
    "  Test: divisible by 13\n",
    "    If true: throw to monkey 1\n",
    "    If false: throw to monkey 3\n",
    "\n",
    "Monkey 3:\n",
    "  Starting items: 74\n",
    "  Operation: new = old + 3\n",
    "  Test: divisible by 17\n",
    "    If true: throw to monkey 0\n",
    "    If false: throw to monkey 1\"\"\""
   ]
  },
  {
   "cell_type": "code",
   "execution_count": 30,
   "metadata": {},
   "outputs": [
    {
     "name": "stdout",
     "output_type": "stream",
     "text": [
      "10605\n"
     ]
    }
   ],
   "source": [
    "# --- Part 1 & 2 ---\n",
    "\n",
    "part = 1 # 1 or 2\n",
    "\n",
    "MonkeyList = input.split('\\n\\n')\n",
    "\n",
    "monkeys = [{k.split(':')[0].strip():k.split(':')[1].strip() for k in m.split('\\n')[1:]} for m in MonkeyList]\n",
    "activity = [0]*len(monkeys)\n",
    "primeProduct = 1\n",
    "for m in monkeys:\n",
    "    m['Starting items'] = eval('['+m['Starting items']+']')\n",
    "    m['Operation'] = m['Operation'].split('=')[-1].strip()\n",
    "    divisor = int(m['Test'].split('by')[-1])\n",
    "    primeProduct *= divisor\n",
    "    m['Test'] = int(m['Test'].split('by')[-1])\n",
    "    m[True] = int(m['If true'].split('monkey')[-1])\n",
    "    m[False] = int(m['If false'].split('monkey')[-1])\n",
    "    m['Activity'] = 0\n",
    "\n",
    "for iRound in range(10000 if part == 2 else 20):\n",
    "    for m in monkeys:\n",
    "        for old in m['Starting items']:\n",
    "            new = eval(m['Operation'])\n",
    "            if part==1: new //= 3\n",
    "            test = new % m['Test'] == 0\n",
    "            monkeys[m[test]]['Starting items'].append(new % primeProduct)\n",
    "            m['Activity'] += 1\n",
    "        m['Starting items'] = []\n",
    "\n",
    "rank = sorted([m['Activity'] for m in monkeys])\n",
    "print(rank[-1]*rank[-2])\n"
   ]
  },
  {
   "attachments": {},
   "cell_type": "markdown",
   "metadata": {},
   "source": [
    "#### Day 12: Hill Climbing Algorithm\n",
    "https://adventofcode.com/2022/day/12"
   ]
  },
  {
   "cell_type": "code",
   "execution_count": 31,
   "metadata": {},
   "outputs": [],
   "source": [
    "input = \"\"\"Sabqponm\n",
    "abcryxxl\n",
    "accszExk\n",
    "acctuvwj\n",
    "abdefghi\"\"\""
   ]
  },
  {
   "cell_type": "code",
   "execution_count": 32,
   "metadata": {},
   "outputs": [
    {
     "name": "stdout",
     "output_type": "stream",
     "text": [
      "End reached in 29 steps.\n"
     ]
    }
   ],
   "source": [
    "# --- Part 1 & 2 ---\n",
    "\n",
    "import numpy\n",
    "\n",
    "lines = input.split()\n",
    "\n",
    "def goStep(iPosOld, dPos, n):\n",
    "    iPos = iPosOld + dPos\n",
    "    if not 0 <= iPos < nx*ny: return False\n",
    "    if steps[iPos] >= 0: return False\n",
    "    if abs(iPosOld - iPos) not in (1,nx,0): return False\n",
    "    if ord(grid[iPos]) - ord(grid[iPosOld]) > 1: return False\n",
    "    if iPos == iEnd:\n",
    "        print(f'End reached in {n} steps.')\n",
    "        return True\n",
    "    steps[iPos] = n\n",
    "    return iPos\n",
    "\n",
    "lines = input.split()\n",
    "grid = ''.join(lines)\n",
    "iStart, iEnd = (grid.index(i) for i in 'SE')\n",
    "grid = grid.replace('S','a').replace('E','z')\n",
    "ny,nx = len(lines), len(lines[0])\n",
    "right, down = 1, nx\n",
    "\n",
    "#start = [iStart]  # Part = 1\n",
    "start = range(nx*ny)  # Part = 2\n",
    "\n",
    "steps = -numpy.ones(len(grid), 'i')\n",
    "front = [goStep(iPos, 0, 0) for iPos in start if grid[iPos] == 'a']\n",
    "for n in range(1000):\n",
    "    frontOld, front = front, []\n",
    "    for iPosTest in frontOld:\n",
    "        for d in right, down, -right, -down:\n",
    "            iPos = goStep(iPosTest, d, n+1)\n",
    "            if type(iPos) is int:\n",
    "                front.append(iPos)\n",
    "            if iPos is True:\n",
    "                front = []\n",
    "                break"
   ]
  },
  {
   "attachments": {},
   "cell_type": "markdown",
   "metadata": {},
   "source": [
    "#### Day 13: Distress Signal\n",
    "https://adventofcode.com/2022/day/13"
   ]
  },
  {
   "cell_type": "code",
   "execution_count": 33,
   "metadata": {},
   "outputs": [],
   "source": [
    "# --- Test Input ---\n",
    "\n",
    "input = \"\"\"[1,1,3,1,1]\n",
    "[1,1,5,1,1]\n",
    "\n",
    "[[1],[2,3,4]]\n",
    "[[1],4]\n",
    "\n",
    "[9]\n",
    "[[8,7,6]]\n",
    "\n",
    "[[4,4],4,4]\n",
    "[[4,4],4,4,4]\n",
    "\n",
    "[7,7,7,7]\n",
    "[7,7,7]\n",
    "\n",
    "[]\n",
    "[3]\n",
    "\n",
    "[[[]]]\n",
    "[[]]\n",
    "\n",
    "[1,[2,[3,[4,[5,6,7]]]],8,9]\n",
    "[1,[2,[3,[4,[5,6,0]]]],8,9]\"\"\""
   ]
  },
  {
   "cell_type": "code",
   "execution_count": 34,
   "metadata": {},
   "outputs": [
    {
     "data": {
      "text/plain": [
       "13"
      ]
     },
     "execution_count": 34,
     "metadata": {},
     "output_type": "execute_result"
    }
   ],
   "source": [
    "# --- Part 1 ---\n",
    "\n",
    "lines = input.split('\\n\\n')\n",
    "\n",
    "from numpy import sign\n",
    "\n",
    "def compare(item1, item2):\n",
    "    is1Int, is2Int = type(item1) is int, type(item2) is int\n",
    "    if is1Int and is2Int:\n",
    "        return sign(item2 - item1)\n",
    "    if is1Int: item1 = [item1]\n",
    "    if is2Int: item2 = [item2]\n",
    "    order = 0\n",
    "    for i in range(min(len(item1), len(item2))):\n",
    "        order = compare(item1[i], item2[i])\n",
    "        if order != 0: break\n",
    "    if order == 0:\n",
    "        order = sign(len(item2) - len(item1))\n",
    "    return order\n",
    "\n",
    "sum([i+1 for i, line in enumerate(lines) if compare(*eval(line.replace('\\n',','))) == 1])"
   ]
  },
  {
   "cell_type": "code",
   "execution_count": 35,
   "metadata": {},
   "outputs": [
    {
     "data": {
      "text/plain": [
       "140"
      ]
     },
     "execution_count": 35,
     "metadata": {},
     "output_type": "execute_result"
    }
   ],
   "source": [
    "# --- Part 2 ---\n",
    "\n",
    "from functools import cmp_to_key\n",
    "\n",
    "lines = [[[2]], [[6]]] + [eval(line) for line in input.replace('\\n\\n','\\n').split('\\n')]\n",
    "\n",
    "s = sorted(lines, key=cmp_to_key(compare))[::-1]\n",
    "(s.index([[2]])+1) * (s.index([[6]])+1)"
   ]
  },
  {
   "attachments": {},
   "cell_type": "markdown",
   "metadata": {},
   "source": [
    "#### Day 14: Regolith Reservoir\n",
    "https://adventofcode.com/2022/day/14"
   ]
  },
  {
   "cell_type": "code",
   "execution_count": 36,
   "metadata": {},
   "outputs": [],
   "source": [
    "# --- Test Input ---\n",
    "\n",
    "input = \"\"\"498,4 -> 498,6 -> 496,6\n",
    "503,4 -> 502,4 -> 502,9 -> 494,9\"\"\""
   ]
  },
  {
   "cell_type": "code",
   "execution_count": 37,
   "metadata": {},
   "outputs": [
    {
     "name": "stdout",
     "output_type": "stream",
     "text": [
      "iSand: 93\n"
     ]
    }
   ],
   "source": [
    "# --- Part 1 & 2 ---\n",
    "\n",
    "part = 2 # 1 or 2\n",
    "\n",
    "lines = input.split('\\n')\n",
    "\n",
    "n = 1000\n",
    "m = numpy.zeros((n,n),'i')\n",
    "empty, rock, sand = 0,1,2\n",
    "yMax = 0\n",
    "for line in lines:\n",
    "    wall = [eval(corner) for corner in line.split('->')]\n",
    "    for i in range(len(wall)-1):\n",
    "        (x0,y0),(x1,y1) = wall[i], wall[i+1]\n",
    "        dx, sx = abs(x1-x0), numpy.sign(x1-x0)\n",
    "        dy, sy = abs(y1-y0), numpy.sign(y1-y0)\n",
    "        rx = x0 + ((sx*numpy.arange(dx+1)) if dx else 0)\n",
    "        ry = y0 + ((sy*numpy.arange(dy+1)) if dy else 0)\n",
    "        m[ry,rx] = 1\n",
    "        yMax = max(y0,y1,yMax)\n",
    "        \n",
    "if part == 2:\n",
    "    m[yMax+2,:] = 1\n",
    "\n",
    "for iSand in range(1,100000):\n",
    "    x = 500\n",
    "    falling = True\n",
    "    for y in range(0,n-1):\n",
    "        if m[y,x] == 0:\n",
    "           pass\n",
    "        elif m[y,x-1] == 0:\n",
    "            x -= 1\n",
    "        elif m[y,x+1] == 0:\n",
    "            x += 1\n",
    "        else:\n",
    "            m[y-1,x] = 2\n",
    "            falling = False\n",
    "            break\n",
    "    if falling or m[0,500] == 2:\n",
    "        print('iSand:', iSand - int(falling))\n",
    "        break"
   ]
  },
  {
   "attachments": {},
   "cell_type": "markdown",
   "metadata": {},
   "source": [
    "#### Day 15: Beacon Exclusion Zone\n",
    "https://adventofcode.com/2022/day/15"
   ]
  },
  {
   "cell_type": "code",
   "execution_count": 1,
   "metadata": {},
   "outputs": [],
   "source": [
    "# --- Test Input ---\n",
    "\n",
    "input= \"\"\"Sensor at x=2, y=18: closest beacon is at x=-2, y=15\n",
    "Sensor at x=9, y=16: closest beacon is at x=10, y=16\n",
    "Sensor at x=13, y=2: closest beacon is at x=15, y=3\n",
    "Sensor at x=12, y=14: closest beacon is at x=10, y=16\n",
    "Sensor at x=10, y=20: closest beacon is at x=10, y=16\n",
    "Sensor at x=14, y=17: closest beacon is at x=10, y=16\n",
    "Sensor at x=8, y=7: closest beacon is at x=2, y=10\n",
    "Sensor at x=2, y=0: closest beacon is at x=2, y=10\n",
    "Sensor at x=0, y=11: closest beacon is at x=2, y=10\n",
    "Sensor at x=20, y=14: closest beacon is at x=25, y=17\n",
    "Sensor at x=17, y=20: closest beacon is at x=21, y=22\n",
    "Sensor at x=16, y=7: closest beacon is at x=15, y=3\n",
    "Sensor at x=14, y=3: closest beacon is at x=15, y=3\n",
    "Sensor at x=20, y=1: closest beacon is at x=15, y=3\"\"\""
   ]
  },
  {
   "cell_type": "code",
   "execution_count": 3,
   "metadata": {},
   "outputs": [
    {
     "data": {
      "text/plain": [
       "26"
      ]
     },
     "execution_count": 3,
     "metadata": {},
     "output_type": "execute_result"
    }
   ],
   "source": [
    "# --- Part 1 ---\n",
    "\n",
    "lines = input.split('\\n')\n",
    "coord = [[int(v.replace(':',',').split(',')[0]) for v in line.split('=')[1:]] for line in lines]\n",
    "\n",
    "def getLineIntervals(y):\n",
    "    ranges = []\n",
    "    for sx,sy,bx,by in coord:\n",
    "        r = abs(sx-bx) + abs(sy-by)\n",
    "        dy = abs(y-sy)\n",
    "        if dy <= r:\n",
    "            ry = r-dy\n",
    "            ranges.append((sx-ry,sx+ry))\n",
    "    return sorted(ranges)\n",
    "\n",
    "def combineIntervals(ranges):\n",
    "    n = len(ranges)\n",
    "    for j in range(n-1):\n",
    "        for i in range(n-1):\n",
    "            r1, r2 = ranges[i], ranges[i+1]\n",
    "            (a0,a1), (b0,b1) = r1, r2\n",
    "            if not (a1 < b0-1 or b1 < a0-1):\n",
    "                ranges = ranges[:i] + [(min(a0,b0), max(a1,b1))] + ranges[i+2:]\n",
    "                n -= 1\n",
    "                break\n",
    "        if n == 1: break\n",
    "    return ranges\n",
    "\n",
    "y = 10\n",
    "ranges = combineIntervals(getLineIntervals(y))\n",
    "sum([x1-x0 for x0,x1 in ranges])\n"
   ]
  },
  {
   "cell_type": "code",
   "execution_count": 4,
   "metadata": {},
   "outputs": [
    {
     "name": "stdout",
     "output_type": "stream",
     "text": [
      "56000011\n"
     ]
    }
   ],
   "source": [
    "# --- Part 2 ---\n",
    "\n",
    "for y in range(20):  # 4000000\n",
    "    ranges = combineIntervals(getLineIntervals(y))\n",
    "    if len(ranges) > 1:\n",
    "        print((ranges[0][1]+1)*4000000 + y)\n",
    "        break"
   ]
  },
  {
   "attachments": {},
   "cell_type": "markdown",
   "metadata": {},
   "source": [
    "#### Day 16"
   ]
  },
  {
   "cell_type": "code",
   "execution_count": 4,
   "metadata": {},
   "outputs": [],
   "source": []
  },
  {
   "attachments": {},
   "cell_type": "markdown",
   "metadata": {},
   "source": [
    "#### Day 17"
   ]
  },
  {
   "cell_type": "code",
   "execution_count": null,
   "metadata": {},
   "outputs": [],
   "source": []
  },
  {
   "attachments": {},
   "cell_type": "markdown",
   "metadata": {},
   "source": [
    "#### Day 18"
   ]
  },
  {
   "cell_type": "code",
   "execution_count": null,
   "metadata": {},
   "outputs": [],
   "source": []
  },
  {
   "attachments": {},
   "cell_type": "markdown",
   "metadata": {},
   "source": [
    "#### Day 19"
   ]
  },
  {
   "cell_type": "code",
   "execution_count": null,
   "metadata": {},
   "outputs": [],
   "source": []
  },
  {
   "attachments": {},
   "cell_type": "markdown",
   "metadata": {},
   "source": [
    "#### Day 20"
   ]
  },
  {
   "cell_type": "code",
   "execution_count": null,
   "metadata": {},
   "outputs": [],
   "source": []
  },
  {
   "attachments": {},
   "cell_type": "markdown",
   "metadata": {},
   "source": [
    "#### Day 21"
   ]
  },
  {
   "cell_type": "code",
   "execution_count": null,
   "metadata": {},
   "outputs": [],
   "source": []
  },
  {
   "attachments": {},
   "cell_type": "markdown",
   "metadata": {},
   "source": [
    "#### Day 22"
   ]
  },
  {
   "cell_type": "code",
   "execution_count": null,
   "metadata": {},
   "outputs": [],
   "source": []
  },
  {
   "attachments": {},
   "cell_type": "markdown",
   "metadata": {},
   "source": [
    "#### Day 23"
   ]
  },
  {
   "cell_type": "code",
   "execution_count": null,
   "metadata": {},
   "outputs": [],
   "source": []
  },
  {
   "attachments": {},
   "cell_type": "markdown",
   "metadata": {},
   "source": [
    "#### Day 24"
   ]
  },
  {
   "cell_type": "code",
   "execution_count": null,
   "metadata": {},
   "outputs": [],
   "source": []
  }
 ],
 "metadata": {
  "kernelspec": {
   "display_name": "Python 3",
   "language": "python",
   "name": "python3"
  },
  "language_info": {
   "codemirror_mode": {
    "name": "ipython",
    "version": 3
   },
   "file_extension": ".py",
   "mimetype": "text/x-python",
   "name": "python",
   "nbconvert_exporter": "python",
   "pygments_lexer": "ipython3",
   "version": "3.10.5"
  },
  "orig_nbformat": 4,
  "vscode": {
   "interpreter": {
    "hash": "181910aaa68cd38c7d7c014f0d8f9f2d166eaab60163d0065093fdfa4a43668d"
   }
  }
 },
 "nbformat": 4,
 "nbformat_minor": 2
}
